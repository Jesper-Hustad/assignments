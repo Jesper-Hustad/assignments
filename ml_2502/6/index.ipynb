{
 "metadata": {
  "language_info": {
   "codemirror_mode": {
    "name": "ipython",
    "version": 3
   },
   "file_extension": ".py",
   "mimetype": "text/x-python",
   "name": "python",
   "nbconvert_exporter": "python",
   "pygments_lexer": "ipython3",
   "version": "3.9.7"
  },
  "orig_nbformat": 2,
  "kernelspec": {
   "name": "python3",
   "display_name": "Python 3.9.7 64-bit",
   "metadata": {
    "interpreter": {
     "hash": "fe44fef87f92f48a3a32707d0df204585f471652bc0ce87358a3ce712bc24db0"
    }
   }
  }
 },
 "nbformat": 4,
 "nbformat_minor": 2,
 "cells": [
  {
   "source": [
    "## IDATT2502 Anvendt maskinlæring med prosjekt\n",
    "# Øving 6 : Dimension reduction"
   ],
   "cell_type": "markdown",
   "metadata": {}
  },
  {
   "source": [
    "### Using the UCI mushroom dataset from the last exercise, perform a feature selection using a classifier evaluator. Which features are most discriminative?"
   ],
   "cell_type": "markdown",
   "metadata": {}
  },
  {
   "cell_type": "code",
   "execution_count": 1,
   "metadata": {
    "tags": []
   },
   "outputs": [
    {
     "output_type": "stream",
     "name": "stdout",
     "text": [
      "most_discriminitave_features = ['edibility_e', 'edibility_p', 'odor_f', 'odor_n', 'stalk-surface-above-ring_k']\n"
     ]
    }
   ],
   "source": [
    "from sklearn.feature_selection import SelectKBest\n",
    "from sklearn.feature_selection import chi2\n",
    "import numpy as np\n",
    "import pandas as pd\n",
    "\n",
    "# import dataset\n",
    "df = pd.read_csv('agaricus-lepiota.csv')\n",
    "dummies = pd.get_dummies(df)\n",
    "\n",
    "X = pd.get_dummies(df)\n",
    "\n",
    "# feature selected\n",
    "descriminant = 'edibility'\n",
    "y = pd.get_dummies(df[descriminant])\n",
    "\n",
    "# classifier evaluator\n",
    "skb = SelectKBest(chi2, k=5)\n",
    "skb.fit(X, y)\n",
    "\n",
    "most_discriminitave_features = [dummies.columns[i] for i in skb.get_support(indices=True)]\n",
    "print(f\"{most_discriminitave_features = }\")"
   ]
  },
  {
   "source": [
    "### Use principal components analysis to construct a reduced space. Which combination of features explain the most variance in the dataset?"
   ],
   "cell_type": "markdown",
   "metadata": {}
  },
  {
   "cell_type": "code",
   "execution_count": 4,
   "metadata": {
    "tags": []
   },
   "outputs": [
    {
     "output_type": "stream",
     "name": "stdout",
     "text": [
      "most_variance_features = ['edibility_p', 'stalk-root_b', 'habitat_g', 'stalk-shape_t', 'odor_n']\n"
     ]
    }
   ],
   "source": [
    "from sklearn.decomposition import PCA\n",
    "\n",
    "# dataset\n",
    "uci = X\n",
    "\n",
    "# PCA\n",
    "pca = PCA(n_components=5)\n",
    "pca.fit_transform(uci)\n",
    "\n",
    "# Most variant using argmax\n",
    "most_variance_features = [X.columns[pca.components_[i].argmax()] for i in range(pca.n_components)]\n",
    "print(f\"{most_variance_features = }\")"
   ]
  },
  {
   "source": [
    "### Do you see any overlap between the PCA features and those obtained from feature selection?"
   ],
   "cell_type": "markdown",
   "metadata": {
    "tags": []
   }
  },
  {
   "cell_type": "code",
   "execution_count": 5,
   "metadata": {
    "tags": []
   },
   "outputs": [
    {
     "output_type": "stream",
     "name": "stdout",
     "text": [
      "overlapping_features = {'odor_n', 'edibility_p'}\n"
     ]
    }
   ],
   "source": [
    "overlapping_features = set(most_discriminitave_features).intersection(most_variance_features)\n",
    "print(f\"{overlapping_features = }\")\n"
   ]
  },
  {
   "cell_type": "code",
   "execution_count": null,
   "metadata": {},
   "outputs": [],
   "source": []
  }
 ]
}