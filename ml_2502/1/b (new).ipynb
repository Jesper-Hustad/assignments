{
 "cells": [
  {
   "cell_type": "markdown",
   "metadata": {},
   "source": [
    "# a) ineær regresjon i 3 dimensjoner:\r\n",
    "<!-- Based on [linear-2d](https://gitlab.com/ntnu-tdat3025/regression/linear-2d) by Ole Christian Eidheim. -->"
   ]
  },
  {
   "cell_type": "code",
   "execution_count": 261,
   "metadata": {},
   "outputs": [],
   "source": [
    "import torch\r\n",
    "import matplotlib.pyplot as plt\r\n",
    "import pandas as pd\r\n",
    "import numpy as np\r\n",
    "from matplotlib import cm\r\n",
    "from mpl_toolkits.mplot3d import axes3d, art3d\r\n",
    "%matplotlib qt"
   ]
  },
  {
   "cell_type": "markdown",
   "metadata": {},
   "source": [
    "## Import data from csv"
   ]
  },
  {
   "cell_type": "code",
   "execution_count": 262,
   "metadata": {
    "tags": []
   },
   "outputs": [
    {
     "name": "stdout",
     "output_type": "stream",
     "text": [
      "x_train[0:10] = tensor([[ 604.0000,   84.8655],\n",
      "        [ 964.0000,   92.8221],\n",
      "        [1640.0000,   98.5218],\n",
      "        [ 642.0000,   85.6332],\n",
      "        [ 467.0000,   75.2944],\n",
      "        [ 447.0000,   79.7825],\n",
      "        [1450.0000,   99.4479],\n",
      "        [1472.0000,  105.3180],\n",
      "        [1661.0000,  116.2802],\n",
      "        [1776.0000,  107.2823]]) \n",
      "y_train[0:10] = tensor([[13.0302],\n",
      "        [14.7191],\n",
      "        [21.0195],\n",
      "        [12.7910],\n",
      "        [10.5395],\n",
      "        [ 9.3395],\n",
      "        [12.4751],\n",
      "        [12.1663],\n",
      "        [20.8239],\n",
      "        [16.3704]])\n"
     ]
    }
   ],
   "source": [
    "train = pd.read_csv('day_length_weight.csv')\r\n",
    "\r\n",
    "day = train.iloc[0::,0]\r\n",
    "day_list = day.values.tolist()\r\n",
    "x1_train = torch.tensor(day_list).reshape(-1, 1)\r\n",
    "\r\n",
    "length = train.iloc[0::,1]\r\n",
    "length_list = length.values.tolist()\r\n",
    "x2_train = torch.tensor(length_list).reshape(-1, 1)\r\n",
    "\r\n",
    "weight = train.iloc[0::,2]\r\n",
    "weight_list = weight.values.tolist()\r\n",
    "y_train = torch.tensor(weight_list).reshape(-1, 1)\r\n",
    "\r\n",
    "\r\n",
    "# print(torch.cat((x1_train, x2_train),1))\r\n",
    "\r\n",
    "# print(f\"{x1_train[0:10] = }\",f\"\\n{x2_train[0:10] = }\",f\"\\n{y_train[0:10] = }\")\r\n",
    "\r\n",
    "# test data\r\n",
    "# x_train = np.array([[1, 4.5], [1.5, 2], [2, 1], [3, 3.5], [4, 3], [5, 1], [6, 2]])\r\n",
    "# y_train = np.array([[5], [3.5], [3], [4], [3], [1.5], [2]])\r\n",
    "\r\n",
    "x_train = torch.cat((x1_train, x2_train),1).float()\r\n",
    "# # .reshape(-2, 1)\r\n",
    "# y_train = torch.tensor(y_train).reshape(-1, 1).float()\r\n",
    "\r\n",
    "print(f\"{x_train[0:10] = }\",f\"\\n{y_train[0:10] = }\")"
   ]
  },
  {
   "cell_type": "markdown",
   "metadata": {},
   "source": [
    "## Define Linear Regression Model class"
   ]
  },
  {
   "cell_type": "code",
   "execution_count": 263,
   "metadata": {},
   "outputs": [],
   "source": [
    "# W_init = np.array([[-0.2], [0.53]])\r\n",
    "# b_init = np.array([[3.1]])\r\n",
    "\r\n",
    "class LinearRegressionModel:\r\n",
    "    def __init__(self):\r\n",
    "        # Model variables\r\n",
    "        self.W = torch.tensor([[-0.2], [0.53]], requires_grad=True)  # requires_grad enables calculation of gradients\r\n",
    "        self.b = torch.tensor([[3.1]], requires_grad=True)\r\n",
    "\r\n",
    "    # Predictor\r\n",
    "    def f(self, x):\r\n",
    "        return x @ self.W + self.b  # @ corresponds to matrix multiplication\r\n",
    "\r\n",
    "    # Uses Mean Squared Error\r\n",
    "    def loss(self, x, y):\r\n",
    "        return torch.nn.functional.mse_loss(self.f(x), y)"
   ]
  },
  {
   "cell_type": "markdown",
   "metadata": {},
   "source": [
    "## Optimize with stochastic gradient descent (SGD)\r\n",
    "PyTorch's built in optimizer does a lot of the work for us."
   ]
  },
  {
   "cell_type": "code",
   "execution_count": 280,
   "metadata": {
    "tags": []
   },
   "outputs": [
    {
     "name": "stdout",
     "output_type": "stream",
     "text": [
      "W = [-0.20000000298023224, 0.5299999713897705], b = 3.0999999046325684, loss = 3.636127233505249\n",
      "W = [-0.18743057548999786, 0.06492315977811813], b = 2.3848190307617188, loss = 1.405150055885315\n",
      "W = [-0.12138956785202026, -0.25584959983825684], b = 1.8881454467773438, loss = 0.6910840272903442\n",
      "W = [-0.0751366838812828, -0.48008808493614197], b = 1.5398821830749512, loss = 0.340629905462265\n",
      "W = [-0.04274647310376167, -0.636699378490448], b = 1.2955888509750366, loss = 0.16862957179546356\n",
      "W = [-0.020067891106009483, -0.7459343075752258], b = 1.1241331100463867, loss = 0.08421123027801514\n",
      "W = [-0.004192830994725227, -0.8219802975654602], b = 1.0037047863006592, loss = 0.04277646541595459\n",
      "W = [0.006915977690368891, -0.8747759461402893], b = 0.9190245866775513, loss = 0.0224373210221529\n",
      "W = [0.014685766771435738, -0.9112841486930847], b = 0.8593884110450745, loss = 0.012451507151126862\n",
      "W = [0.0201164148747921, -0.9363828897476196], b = 0.8172973990440369, loss = 0.007546922191977501\n"
     ]
    }
   ],
   "source": [
    "model = LinearRegressionModel()\r\n",
    "\r\n",
    "# set variables\r\n",
    "scale = 10**(-2)\r\n",
    "epoch_count = 1000\r\n",
    "step_length = 0.005\r\n",
    "\r\n",
    "# downscale\r\n",
    "x_train = x_train * scale\r\n",
    "y_train = y_train * scale\r\n",
    "\r\n",
    "# print(f\"{model.W = }\",f\"\\n{model.b = }\")\r\n",
    "\r\n",
    "# print(f\"{x_train[0:6] = }\",f\"\\n{y_train[0:6] = }\")\r\n",
    "\r\n",
    "# Optimize: adjust W and b to minimize loss using stochastic gradient descent\r\n",
    "optimizer = torch.optim.SGD([model.W, model.b], step_length)\r\n",
    "\r\n",
    "for epoch in range(epoch_count):\r\n",
    "    \r\n",
    "    if epoch % 100 == 0:\r\n",
    "        print(\"W = %s, b = %s, loss = %s\" % ([model.W[0].item(), model.W[1].item()] ,model.b.item(), model.loss(x_train, y_train).item()))\r\n",
    "\r\n",
    "    model.loss(x_train, y_train).backward()  # Compute loss gradients\r\n",
    "\r\n",
    "    optimizer.step()  # Perform optimization by adjusting W and b,\r\n",
    "\r\n",
    "    optimizer.zero_grad()  # Clear gradients for next step\r\n",
    "\r\n",
    "\r\n",
    "# correct for downscaling\r\n",
    "x_train = x_train / scale\r\n",
    "y_train = y_train / scale"
   ]
  },
  {
   "cell_type": "markdown",
   "metadata": {},
   "source": [
    "## Visualize data"
   ]
  },
  {
   "cell_type": "code",
   "execution_count": 277,
   "metadata": {},
   "outputs": [
    {
     "name": "stdout",
     "output_type": "stream",
     "text": [
      "W = tensor([[ 0.0293],\n",
      "        [-0.8628]], requires_grad=True), b = tensor([[63.2279]], grad_fn=<DivBackward0>), loss = tensor(3929.2141, grad_fn=<MseLossBackward>)\n",
      "x = tensor([[   2.0000,   49.4548],\n",
      "        [1852.9999,  118.5752]])\n",
      "tensor([[   2.0000],\n",
      "        [1852.9999]])\n",
      "tensor([[ 49.4548],\n",
      "        [118.5752]])\n",
      "tensor([[-41.9770],\n",
      "        [-47.3003]])\n"
     ]
    }
   ],
   "source": [
    "\r\n",
    "# Print model variables and loss\r\n",
    "print(\"W = %s, b = %s, loss = %s\" % (model.W, model.b/scale, model.loss(x_train, y_train)))\r\n",
    "\r\n",
    "\r\n",
    "\r\n",
    "# Create the figure\r\n",
    "fig = plt.figure()\r\n",
    "\r\n",
    "# Add an axes\r\n",
    "ax = fig.add_subplot(111,projection='3d')\r\n",
    "\r\n",
    "# xx, yy = np.meshgrid([0,1], [0, 1])\r\n",
    "# z = (9 - xx - yy) / 2 \r\n",
    "\r\n",
    "# # plot the plane\r\n",
    "# ax.plot_surface(xx, yy, z, alpha=0.5)\r\n",
    "\r\n",
    "\r\n",
    "# x1_grid, x2_grid = np.meshgrid(np.linspace(1, 6, 10), np.linspace(1, 4.5, 10))\r\n",
    "# y_grid = np.empty([10, 10])\r\n",
    "\r\n",
    "# ax.plot_wireframe(x1_grid, x2_grid, y_grid, color='green')\r\n",
    "\r\n",
    "\r\n",
    "# print(\"torch max x_train\",torch.max(x_train, 0).values, \"---\")\r\n",
    "\r\n",
    "x = torch.stack([torch.min(x_train, 0).values, torch.max(x_train, 0).values])\r\n",
    "\r\n",
    "print(f\"{x = }\")\r\n",
    "\r\n",
    "print(x[:,0].reshape(-1,1))\r\n",
    "print(x[:,1].reshape(-1,1))\r\n",
    "print(model.f(x).detach())\r\n",
    "# print(f\"{[x[:,0].reshape(-1,1),x[:,1], model.f(x).detach()] = }\")\r\n",
    "\r\n",
    "# x[:,0].reshape(-1,1),x[:,1].reshape(-1,1), model.f(x).detach()\r\n",
    "\r\n",
    "# plt.plot([0,1852],[0,118],[model.b,0], label='$\\\\hat y = f(x) = xW+b$')\r\n",
    "\r\n",
    "def display(model):\r\n",
    "\r\n",
    "    x1_grid, x2_grid = np.meshgrid(np.linspace(x[0,0], x[1,0], 10), np.linspace(x[0,1], x[1,1], 10))\r\n",
    "    y_grid = np.empty([10, 10])\r\n",
    "    for i in range(0, x1_grid.shape[0]):\r\n",
    "        for j in range(0, x1_grid.shape[1]):\r\n",
    "            x_val = torch.tensor( [[ x1_grid[i, j], x2_grid[i, j] ]] ).float()\r\n",
    "            y_grid[i, j] = model.f(x_val)\r\n",
    "\r\n",
    "    ax.plot_wireframe(x1_grid, x2_grid, y_grid, color='orange')\r\n",
    "\r\n",
    "    # and plot the point \r\n",
    "    ax.scatter(x_train[:,0],x_train[:,1],y_train,  color='blue')\r\n",
    "\r\n",
    "    plt.draw()\r\n",
    "    plt.pause(0.02)\r\n",
    "    ax.cla()\r\n",
    "\r\n",
    "\r\n",
    "\r\n",
    "\r\n",
    "# plt.show()"
   ]
  },
  {
   "cell_type": "code",
   "execution_count": 281,
   "metadata": {},
   "outputs": [
    {
     "name": "stdout",
     "output_type": "stream",
     "text": [
      "\n",
      "f(604, 84) = -64.8649673461914\n"
     ]
    }
   ],
   "source": [
    "a = torch.tensor([[ 604,84 ]]).float()\r\n",
    "print()\r\n",
    "print(\"f(604, 84) =\" , model.f(a).item())"
   ]
  }
 ],
 "metadata": {
  "kernelspec": {
   "display_name": "Python 3.9.6 64-bit",
   "name": "python396jvsc74a57bd063fd5069d213b44bf678585dea6b12cceca9941eaf7f819626cde1f2670de90d"
  },
  "language_info": {
   "codemirror_mode": {
    "name": "ipython",
    "version": 3
   },
   "file_extension": ".py",
   "mimetype": "text/x-python",
   "name": "python",
   "nbconvert_exporter": "python",
   "pygments_lexer": "ipython3",
   "version": "3.9.6"
  }
 },
 "nbformat": 4,
 "nbformat_minor": 5
}