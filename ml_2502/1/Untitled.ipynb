{
 "cells": [
  {
   "cell_type": "code",
   "execution_count": 45,
   "id": "8fe63d0c-8223-4106-a245-5dc5a3d0f0f3",
   "metadata": {},
   "outputs": [],
   "source": [
    "import torch\n",
    "import matplotlib.pyplot as plt\n",
    "from sklearn.datasets import make_regression\n",
    "import math\n",
    "import numpy"
   ]
  },
  {
   "cell_type": "code",
   "execution_count": 235,
   "id": "258e0b30-e75e-4f50-878d-69303d0f2d97",
   "metadata": {},
   "outputs": [],
   "source": [
    "class LinearRegression:\n",
    "    def fit(self, X, y, learning_rate=0.01, iterations=500, batch_size=32):\n",
    "    \n",
    "        X, y = torch.from_numpy(X), torch.from_numpy(y)\n",
    "#         print(\"x before \",X)\n",
    "        \n",
    "        X = torch.cat([(X), torch.ones_like(y)], dim=1)\n",
    "#         print(\"x after \",X)\n",
    "        \n",
    "        rows, cols = X.size()\n",
    "        self.weights = torch.normal(mean=0, std=1/cols, size=(cols, 1), dtype=torch.float64)\n",
    "        \n",
    "        print('weight',self.weights)\n",
    "#         self.weights = 1\n",
    "    \n",
    "        for i in range(iterations):\n",
    "            Xy = torch.cat([X, y], dim=1)\n",
    "            Xy = Xy[torch.randperm(Xy.size()[0])]\n",
    "            X, y = torch.split(Xy, [Xy.size()[1]-1, 1], dim=1)\n",
    "            for j in range(int(math.ceil(rows/batch_size))):\n",
    "                start, end = batch_size*j, min(batch_size*(j+1), rows)\n",
    "                Xb = torch.index_select(X, 0, torch.arange(start, end))\n",
    "                yb = torch.index_select(y, 0, torch.arange(start, end))\n",
    "\n",
    "                self.weights.requires_grad_(True)\n",
    "                diff = torch.matmul(Xb, self.weights) - yb\n",
    "                loss = torch.matmul(torch.transpose(diff, 0, 1), diff)\n",
    "                loss.backward()\n",
    "\n",
    "                self.weights = (self.weights - learning_rate*self.weights.grad).detach()\n",
    "\n",
    "        \n",
    "        return self\n",
    "    \n",
    "    def predict(self, X):\n",
    "        X = torch.from_numpy(X)\n",
    "        if not hasattr(self, 'weights'):\n",
    "            print('Cannot predict. You should call the .fit() method first.')\n",
    "            return\n",
    "        \n",
    "        X = torch.cat([X, torch.ones((X.size()[0], 1))], dim=1)\n",
    "        \n",
    "        if X.size()[1] != self.weights.size()[0]:\n",
    "            print(f'Shapes do not match. {X.size()[1]} != {self.weights.size()[0]}')\n",
    "            return\n",
    "        \n",
    "        return torch.matmul(X, self.weights)\n",
    "    \n",
    "    def rmse(self, X, y):\n",
    "        y = torch.from_numpy(y)\n",
    "        y_hat = self.predict(X)\n",
    "        \n",
    "        if y_hat is None:\n",
    "            return\n",
    "        \n",
    "        return torch.sqrt(torch.mean(torch.square(y_hat - y)))"
   ]
  },
  {
   "cell_type": "code",
   "execution_count": 227,
   "id": "72788955-faa9-48c0-a3b4-cbe3501c857f",
   "metadata": {},
   "outputs": [],
   "source": [
    "import csv\n",
    "\n",
    "X = []\n",
    "y = []\n",
    "\n",
    "with open('length_weight.csv') as csvfile:\n",
    "    csv_data = csv.reader(csvfile, delimiter=',', quotechar='|')\n",
    "    \n",
    "#   skip headers  \n",
    "    next(csv_data)\n",
    "    \n",
    "    for row in csv_data:\n",
    "        X.append(float(row[0])/100)\n",
    "        y.append(float(row[1]))\n",
    "        \n",
    "X = numpy.array(X[0:10]).reshape((-1, 1))\n",
    "y = numpy.array(y[0:10])"
   ]
  },
  {
   "cell_type": "code",
   "execution_count": null,
   "id": "3b971c16-cf72-4b8f-891b-c8f5773aa39d",
   "metadata": {},
   "outputs": [],
   "source": []
  },
  {
   "cell_type": "code",
   "execution_count": 221,
   "id": "3c52f035-a964-4366-ac2f-d2bc04e975e6",
   "metadata": {},
   "outputs": [],
   "source": [
    "X, y = make_regression(n_features=1, n_informative=1, bias=1, noise=35)"
   ]
  },
  {
   "cell_type": "code",
   "execution_count": 228,
   "id": "bacaf6bd-a14a-43bb-9bd6-e24ffdd48867",
   "metadata": {},
   "outputs": [],
   "source": [
    "X = X[0:5]\n",
    "y = y[0:5]"
   ]
  },
  {
   "cell_type": "code",
   "execution_count": 229,
   "id": "a8db7383-4ce6-4829-a812-b135604f369e",
   "metadata": {},
   "outputs": [
    {
     "name": "stdout",
     "output_type": "stream",
     "text": [
      "X:  [[0.807]\n",
      " [0.804]\n",
      " [0.725]\n",
      " [1.03 ]\n",
      " [1.076]]\n",
      "Y:  [11.26768032 11.95844519  8.31746162 18.80844309 19.47419294]\n"
     ]
    }
   ],
   "source": [
    "print(\"X: \",X[0:10])\n",
    "print(\"Y: \",y[0:10])"
   ]
  },
  {
   "cell_type": "code",
   "execution_count": 230,
   "id": "78be63ca-a36f-408e-bfc3-354e59ba6b7d",
   "metadata": {},
   "outputs": [
    {
     "data": {
      "text/plain": [
       "<matplotlib.collections.PathCollection at 0x1907d50f7c0>"
      ]
     },
     "execution_count": 230,
     "metadata": {},
     "output_type": "execute_result"
    },
    {
     "data": {
      "image/png": "[encoded data removed]",
      "text/plain": [
       "<Figure size 432x288 with 1 Axes>"
      ]
     },
     "metadata": {
      "needs_background": "light"
     },
     "output_type": "display_data"
    }
   ],
   "source": [
    "plt.scatter(X, y)"
   ]
  },
  {
   "cell_type": "code",
   "execution_count": 231,
   "id": "11f97a1f-7893-4230-a6bb-074e7a8a0da5",
   "metadata": {},
   "outputs": [],
   "source": [
    "y = y.reshape((-1, 1))"
   ]
  },
  {
   "cell_type": "markdown",
   "id": "6affe0f8-0d0f-4f48-b0d6-7abed6147cd4",
   "metadata": {},
   "source": [
    "## Fit with Stochastic gradient descent "
   ]
  },
  {
   "cell_type": "code",
   "execution_count": 236,
   "id": "0cd34e0f-266e-4525-b464-ef40d2cf280e",
   "metadata": {},
   "outputs": [
    {
     "name": "stdout",
     "output_type": "stream",
     "text": [
      "weight tensor([[-0.5985],\n",
      "        [-0.0765]], dtype=torch.float64)\n"
     ]
    }
   ],
   "source": [
    "lr_sgd = LinearRegression().fit(X, y)"
   ]
  },
  {
   "cell_type": "code",
   "execution_count": 233,
   "id": "1d7153e7-9f32-4f21-b3db-065c2fa86a81",
   "metadata": {},
   "outputs": [
    {
     "data": {
      "text/plain": [
       "[<matplotlib.lines.Line2D at 0x1907d5bf0d0>]"
      ]
     },
     "execution_count": 233,
     "metadata": {},
     "output_type": "execute_result"
    },
    {
     "data": {
      "image/png": "[encoded data removed]",
      "text/plain": [
       "<Figure size 432x288 with 1 Axes>"
      ]
     },
     "metadata": {
      "needs_background": "light"
     },
     "output_type": "display_data"
    }
   ],
   "source": [
    "plt.scatter(X, y)\n",
    "plt.plot(X, lr_sgd.predict(X), color='orange')"
   ]
  },
  {
   "cell_type": "code",
   "execution_count": 234,
   "id": "9a595b01-bf9d-4469-a80e-8f8e885425d9",
   "metadata": {},
   "outputs": [
    {
     "data": {
      "text/plain": [
       "tensor(2.0556, dtype=torch.float64)"
      ]
     },
     "execution_count": 234,
     "metadata": {},
     "output_type": "execute_result"
    }
   ],
   "source": [
    "lr_sgd.rmse(X, y)"
   ]
  },
  {
   "cell_type": "code",
   "execution_count": null,
   "id": "e6167c79-d2b2-45f7-8f5e-a8b9a4456137",
   "metadata": {},
   "outputs": [],
   "source": []
  },
  {
   "cell_type": "code",
   "execution_count": null,
   "id": "4451555b-8029-4b9a-b182-bd0a059f166a",
   "metadata": {},
   "outputs": [],
   "source": []
  }
 ],
 "metadata": {
  "kernelspec": {
   "display_name": "Python 3 (ipykernel)",
   "language": "python",
   "name": "python3"
  },
  "language_info": {
   "codemirror_mode": {
    "name": "ipython",
    "version": 3
   },
   "file_extension": ".py",
   "mimetype": "text/x-python",
   "name": "python",
   "nbconvert_exporter": "python",
   "pygments_lexer": "ipython3",
   "version": "3.9.6"
  }
 },
 "nbformat": 4,
 "nbformat_minor": 5
}
