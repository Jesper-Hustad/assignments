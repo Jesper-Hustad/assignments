{
 "cells": [
  {
   "cell_type": "markdown",
   "metadata": {},
   "source": [
    "# a) Non-Lineær Regresjon in 2 Dimensions:\r\n",
    "Based on [linear-2d](https://gitlab.com/ntnu-tdat3025/regression/linear-2d) by Ole Christian Eidheim."
   ]
  },
  {
   "cell_type": "code",
   "execution_count": 2,
   "metadata": {},
   "outputs": [],
   "source": [
    "import torch\n",
    "import matplotlib.pyplot as plt\n",
    "import pandas as pd"
   ]
  },
  {
   "cell_type": "markdown",
   "metadata": {},
   "source": [
    "## Import data from csv"
   ]
  },
  {
   "cell_type": "code",
   "execution_count": 3,
   "metadata": {
    "tags": []
   },
   "outputs": [],
   "source": [
    "train = pd.read_csv('length_weight.csv')\r\n",
    "\r\n",
    "length = train.iloc[1::,0]\r\n",
    "length_list = length.values.tolist()\r\n",
    "x_train = torch.tensor(length_list).reshape(-1, 1)\r\n",
    "\r\n",
    "weight = train.iloc[1::,1]\r\n",
    "weight_list = weight.values.tolist()\r\n",
    "y_train = torch.tensor(weight_list).reshape(-1, 1)"
   ]
  },
  {
   "cell_type": "markdown",
   "metadata": {},
   "source": [
    "## Define Linear Regression Model class"
   ]
  },
  {
   "cell_type": "code",
   "execution_count": 4,
   "metadata": {},
   "outputs": [],
   "source": [
    "class LinearRegressionModel:\r\n",
    "    def __init__(self):\r\n",
    "        # Model variables\r\n",
    "        self.W = torch.tensor([[0.0]], requires_grad=True)  # requires_grad enables calculation of gradients\r\n",
    "        self.b = torch.tensor([[0.0]], requires_grad=True)\r\n",
    "\r\n",
    "    # Predictor\r\n",
    "    def f(self, x):\r\n",
    "        return x @ self.W + self.b  # @ corresponds to matrix multiplication\r\n",
    "\r\n",
    "    # Uses Mean Squared Error\r\n",
    "    def loss(self, x, y):\r\n",
    "        return torch.nn.functional.mse_loss(self.f(x), y)"
   ]
  },
  {
   "cell_type": "markdown",
   "metadata": {},
   "source": [
    "## Optimize with stochastic gradient descent (SGD)\n",
    "PyTorch's built in optimizer does a lot of the work for us."
   ]
  },
  {
   "cell_type": "code",
   "execution_count": 5,
   "metadata": {
    "tags": []
   },
   "outputs": [],
   "source": [
    "model = LinearRegressionModel()\n",
    "\n",
    "# set variables\n",
    "scale = 10**(-2)\n",
    "epoch_count = 150\n",
    "step_length = 0.5\n",
    "\n",
    "# downscale\n",
    "x_train = x_train * scale\n",
    "y_train = y_train * scale\n",
    "\n",
    "# Optimize: adjust W and b to minimize loss using stochastic gradient descent\n",
    "optimizer = torch.optim.SGD([model.W, model.b], step_length)\n",
    "\n",
    "for epoch in range(epoch_count):\n",
    "    \n",
    "    model.loss(x_train, y_train).backward()  # Compute loss gradients\n",
    "\n",
    "    optimizer.step()  # Perform optimization by adjusting W and b,\n",
    "\n",
    "    optimizer.zero_grad()  # Clear gradients for next step\n",
    "\n",
    "\n",
    "# correct for downscaling\n",
    "x_train = x_train / scale\n",
    "y_train = y_train / scale"
   ]
  },
  {
   "cell_type": "markdown",
   "metadata": {},
   "source": [
    "## Visualize data"
   ]
  },
  {
   "cell_type": "code",
   "execution_count": 6,
   "metadata": {},
   "outputs": [
    {
     "name": "stdout",
     "output_type": "stream",
     "text": [
      "W = tensor([[0.2320]], requires_grad=True), b = tensor([[-7.9953]], grad_fn=<DivBackward0>), loss = tensor(63.8490, grad_fn=<MseLossBackward>)\n",
      "xxx tensor([[ 45.0000],\n",
      "        [109.9000]])\n"
     ]
    },
    {
     "data": {
      "image/png": "[encoded data removed]",
      "text/plain": "<Figure size 432x288 with 1 Axes>"
     },
     "metadata": {
      "needs_background": "light"
     },
     "output_type": "display_data"
    }
   ],
   "source": [
    "# Print model variables and loss\r\n",
    "print(\"W = %s, b = %s, loss = %s\" % (model.W, model.b/scale, model.loss(x_train, y_train)))\r\n",
    "\r\n",
    "# clear from previous\r\n",
    "plt.figure().clear()\r\n",
    "\r\n",
    "# Visualize result\r\n",
    "plt.plot(x_train, y_train, 'o', label='$(x^{(i)},y^{(i)})$')\r\n",
    "\r\n",
    "plt.xlabel('x')\r\n",
    "plt.ylabel('y')\r\n",
    "x = torch.tensor([[torch.min(x_train)], [torch.max(x_train)]])  # x = [[1], [6]]]\r\n",
    "\r\n",
    "print(\"xxx\", x)\r\n",
    "\r\n",
    "plt.plot(x, model.f(x).detach() - (8), label='$\\\\hat y = f(x) = xW+b$')\r\n",
    "plt.legend()\r\n",
    "\r\n",
    "plt.show()"
   ]
  }
 ],
 "metadata": {
  "kernelspec": {
   "display_name": "Python 3.9.6 64-bit",
   "name": "python396jvsc74a57bd063fd5069d213b44bf678585dea6b12cceca9941eaf7f819626cde1f2670de90d"
  },
  "language_info": {
   "codemirror_mode": {
    "name": "ipython",
    "version": 3
   },
   "file_extension": ".py",
   "mimetype": "text/x-python",
   "name": "python",
   "nbconvert_exporter": "python",
   "pygments_lexer": "ipython3",
   "version": "3.9.6"
  }
 },
 "nbformat": 4,
 "nbformat_minor": 5
}