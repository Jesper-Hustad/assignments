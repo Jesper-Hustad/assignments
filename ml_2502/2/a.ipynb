{
 "cells": [
  {
   "cell_type": "markdown",
   "metadata": {},
   "source": [
    "# a) NOT-operator:\r\n",
    "Based on [linear-2d](https://gitlab.com/ntnu-tdat3025/regression/linear-2d) by Ole Christian Eidheim."
   ]
  },
  {
   "cell_type": "code",
   "execution_count": 36,
   "metadata": {},
   "outputs": [],
   "source": [
    "import torch\r\n",
    "import matplotlib.pyplot as plt\r\n",
    "import pandas as pd\r\n",
    "import numpy as np"
   ]
  },
  {
   "cell_type": "markdown",
   "metadata": {},
   "source": [
    "## Import data from csv"
   ]
  },
  {
   "cell_type": "code",
   "execution_count": 37,
   "metadata": {
    "tags": []
   },
   "outputs": [],
   "source": [
    "\r\n",
    "x_train = torch.tensor([0,1]).reshape(-1, 1).float()\r\n",
    "\r\n",
    "y_train = torch.tensor([1,0]).reshape(-1, 1).float()"
   ]
  },
  {
   "cell_type": "markdown",
   "metadata": {},
   "source": [
    "## Define Linear Regression Model class"
   ]
  },
  {
   "cell_type": "code",
   "execution_count": 38,
   "metadata": {},
   "outputs": [],
   "source": [
    "class LinearRegressionModel:\r\n",
    "    def __init__(self):\r\n",
    "        # Model variables\r\n",
    "        self.W = torch.tensor([[0.0]], requires_grad=True)  # requires_grad enables calculation of gradients\r\n",
    "        self.b = torch.tensor([[1.0]], requires_grad=True)\r\n",
    "\r\n",
    "    # Predictor\r\n",
    "    def f(self, x):\r\n",
    "        return torch.sigmoid(x @ self.W + self.b)\r\n",
    "        \r\n",
    "\r\n",
    "    # Uses Mean Squared Error\r\n",
    "    def loss(self, x, y):\r\n",
    "        return torch.nn.functional.mse_loss(self.f(x), y)"
   ]
  },
  {
   "cell_type": "markdown",
   "metadata": {},
   "source": [
    "## Optimize with stochastic gradient descent (SGD)\n",
    "PyTorch's built in optimizer does a lot of the work for us."
   ]
  },
  {
   "cell_type": "code",
   "execution_count": 39,
   "metadata": {
    "tags": []
   },
   "outputs": [],
   "source": [
    "model = LinearRegressionModel()\r\n",
    "\r\n",
    "# set constants\r\n",
    "epoch_count = 10000\r\n",
    "step_length = 0.1\r\n",
    "\r\n",
    "# Optimize: adjust W and b to minimize loss using stochastic gradient descent\r\n",
    "optimizer = torch.optim.SGD([model.W, model.b], step_length)\r\n",
    "\r\n",
    "for epoch in range(epoch_count):\r\n",
    "    \r\n",
    "    model.loss(x_train, y_train).backward()  # Compute loss gradients\r\n",
    "\r\n",
    "    optimizer.step()  # Perform optimization by adjusting W and b,\r\n",
    "\r\n",
    "    optimizer.zero_grad()  # Clear gradients for next step\r\n"
   ]
  },
  {
   "cell_type": "markdown",
   "metadata": {},
   "source": [
    "## Visualize data"
   ]
  },
  {
   "cell_type": "code",
   "execution_count": 40,
   "metadata": {},
   "outputs": [
    {
     "name": "stdout",
     "output_type": "stream",
     "text": [
      "W = tensor([[-6.4774]], requires_grad=True), b = tensor([[3.1307]], requires_grad=True), loss = tensor(0.0015, grad_fn=<MseLossBackward>)\n"
     ]
    },
    {
     "data": {
      "image/png": "[encoded data removed]",
      "text/plain": "<Figure size 432x288 with 1 Axes>"
     },
     "metadata": {
      "needs_background": "light"
     },
     "output_type": "display_data"
    }
   ],
   "source": [
    "# Print model variables and loss\r\n",
    "print(\"W = %s, b = %s, loss = %s\" % (model.W, model.b, model.loss(x_train, y_train)))\r\n",
    "\r\n",
    "# clear from previous\r\n",
    "plt.figure().clear()\r\n",
    "\r\n",
    "# Visualize result\r\n",
    "plt.plot(x_train, y_train, 'o', label='$(x^{(i)},y^{(i)})$')\r\n",
    "\r\n",
    "plt.xlabel('x')\r\n",
    "plt.ylabel('y')\r\n",
    "\r\n",
    "x_points = np.linspace(torch.min(x_train).item(), torch.max(x_train).item(),1000)\r\n",
    "x = torch.tensor(x_points).reshape(-1,1).float()\r\n",
    "\r\n",
    "plt.plot(x, model.f(x).detach(), label='$\\\\hat y = f(x) =  \\sigma(xW+b)$')\r\n",
    "plt.legend()\r\n",
    "\r\n",
    "plt.show()"
   ]
  }
 ],
 "metadata": {
  "kernelspec": {
   "display_name": "Python 3.9.6 64-bit",
   "name": "python396jvsc74a57bd063fd5069d213b44bf678585dea6b12cceca9941eaf7f819626cde1f2670de90d"
  },
  "language_info": {
   "codemirror_mode": {
    "name": "ipython",
    "version": 3
   },
   "file_extension": ".py",
   "mimetype": "text/x-python",
   "name": "python",
   "nbconvert_exporter": "python",
   "pygments_lexer": "ipython3",
   "version": "3.9.6"
  }
 },
 "nbformat": 4,
 "nbformat_minor": 5
}