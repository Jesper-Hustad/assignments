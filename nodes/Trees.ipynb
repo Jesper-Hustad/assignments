{
 "cells": [
  {
   "cell_type": "code",
   "execution_count": 78,
   "metadata": {},
   "outputs": [],
   "source": [
    "def Node(val):\n",
    "    return {\"val\": val, \"a\": None, \"b\": None}\n",
    "\n",
    "def getVal(node, default=\"\"):\n",
    "    if node is None: return default\n",
    "    return node['val']\n",
    "\n",
    "\n",
    "# go trough tree and add when branch empty\n",
    "def addNode(val, head):\n",
    "    \n",
    "    branch = head['a'] if val < head['val'] else head['b']\n",
    "    \n",
    "    if branch is None:\n",
    "        if val < head['val']: head['a'] = Node(val)\n",
    "        else:                 head['b'] = Node(val)\n",
    "    else:\n",
    "        addNode(val, branch)\n",
    "\n",
    "\n",
    "# turn entire tree to array for each level\n",
    "def makeTree(words):\n",
    "    \n",
    "    node = None\n",
    "    result = None\n",
    "    branch = None\n",
    "    \n",
    "    \n",
    "    args = words.split(\" \")\n",
    "    head = Node(args[0])\n",
    "\n",
    "\n",
    "    for a in range(1, len(args)): addNode(args[a], head)\n",
    "    tree_layers = treeParse(head)\n",
    "\n",
    "    full_width = 64\n",
    "    for level in tree_layers:\n",
    "        width = int(full_width / len(level))\n",
    "#         print(\"doing levels\")\n",
    "#         print(level)\n",
    "        tree_layer = ['{:^{}s}'.format(v, width) for v in level]\n",
    "        print( \"\".join(tree_layer) + \"\\n\\n\")\n",
    "\n",
    "        \n",
    "def treeParse(node, lev = 0, result={}):\n",
    "#     if lev == 0: print(f\"Starting with  {result.get(str(lev),[])}\")\n",
    "    result[str(lev)] = result.get(str(lev),[]) +  [getVal(node)]\n",
    "\n",
    "    if node is None: \n",
    "        if lev <= 4:\n",
    "            treeParse(None, lev + 1); treeParse(None, lev + 1)\n",
    "        return\n",
    "#     print(\"parsing\" + node['val'])\n",
    "    treeParse(node['a'], lev + 1)\n",
    "    treeParse(node['b'], lev + 1)\n",
    "    \n",
    "    return result.values()"
   ]
  },
  {
   "cell_type": "code",
   "execution_count": 109,
   "metadata": {},
   "outputs": [
    {
     "name": "stdout",
     "output_type": "stream",
     "text": [
      "                              hode                              \n",
      "\n",
      "\n",
      "              bein                            tann              \n",
      "\n",
      "\n",
      "      arm             hals            hånd             tå       \n",
      "\n",
      "\n",
      "                                                                \n",
      "\n",
      "\n",
      "                                                                \n",
      "\n",
      "\n",
      "                                                                \n",
      "\n",
      "\n"
     ]
    }
   ],
   "source": [
    "makeTree(\"hode bein hals arm tann hånd tå\")\n",
    "# makeTree(\"f d h b e g i a c\")\n"
   ]
  },
  {
   "cell_type": "code",
   "execution_count": null,
   "metadata": {},
   "outputs": [],
   "source": []
  },
  {
   "cell_type": "code",
   "execution_count": null,
   "metadata": {},
   "outputs": [],
   "source": []
  }
 ],
 "metadata": {
  "kernelspec": {
   "display_name": "Python 3",
   "language": "python",
   "name": "python3"
  },
  "language_info": {
   "codemirror_mode": {
    "name": "ipython",
    "version": 3
   },
   "file_extension": ".py",
   "mimetype": "text/x-python",
   "name": "python",
   "nbconvert_exporter": "python",
   "pygments_lexer": "ipython3",
   "version": "3.8.5"
  }
 },
 "nbformat": 4,
 "nbformat_minor": 4
}
