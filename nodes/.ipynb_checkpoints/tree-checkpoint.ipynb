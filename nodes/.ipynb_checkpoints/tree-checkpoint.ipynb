{
 "cells": [
  {
   "cell_type": "markdown",
   "metadata": {},
   "source": [
    "## Deloppgave 1, lenka lister  \n",
    "Fra de forrige arbeidskravene har jeg blitt inspirert til å implementere funksjonene på en rekursiv måte.  "
   ]
  },
  {
   "cell_type": "code",
   "execution_count": 51,
   "metadata": {},
   "outputs": [],
   "source": [
    "from pyllist import dllist, dllistnode"
   ]
  },
  {
   "cell_type": "code",
   "execution_count": 55,
   "metadata": {},
   "outputs": [],
   "source": [
    "def addLinked(a, b, carry=0, result=dllist()):\n",
    "\n",
    "    if a is None and b is None: \n",
    "        if carry > 0: result.appendleft(1)\n",
    "        return result\n",
    "\n",
    "    aVal, bVal = getattr(a, 'value', 0), getattr(b, 'value', 0)\n",
    "    addition =  aVal + bVal + carry\n",
    "\n",
    "#   appending addition to result\n",
    "    current = addition % 10\n",
    "    result.appendleft(current)\n",
    "\n",
    "    nextA, nextB = getattr(a, 'prev', None), getattr(b, 'prev', None)\n",
    "    nextCarry = addition // 10\n",
    "\n",
    "#   run process again on next number\n",
    "    return addLinked(nextA, nextB, nextCarry, result)"
   ]
  },
  {
   "cell_type": "code",
   "execution_count": 56,
   "metadata": {},
   "outputs": [],
   "source": [
    "def diffLinked(a, b, loans=False, result=dllist()):\n",
    "\n",
    "    if a is None and b is None:\n",
    "        while result.first.value == 0: result.popleft()\n",
    "        return result\n",
    "\n",
    "    loanCost = 1 if loans else 0\n",
    "    aVal, bVal = getattr(a, 'value', 0), getattr(b, 'value', 0)\n",
    "    subtraction =  aVal - bVal - loanCost\n",
    "\n",
    "#   add 10 if current period needs to loan\n",
    "    loans = subtraction < 0\n",
    "    if loans: subtraction += 10\n",
    "\n",
    "    result.appendleft(subtraction)\n",
    "\n",
    "    nextA, nextB = getattr(a, 'prev', None), getattr(b, 'prev', None)\n",
    "\n",
    "    return diffLinked(nextA, nextB, loans, result)"
   ]
  },
  {
   "cell_type": "code",
   "execution_count": 57,
   "metadata": {},
   "outputs": [],
   "source": [
    "def calcBigNums(arg):\n",
    "\n",
    "#   defining vars\n",
    "    args = arg.split(\" \")\n",
    "    numOne, operator, numTwo = args[0], args[1], args[2]\n",
    "    \n",
    "    n1 = dllist([int(n) for n in list(numOne)])\n",
    "    n2 = dllist([int(n) for n in list(numTwo)])\n",
    "    \n",
    "#   getting result\n",
    "    result = addLinked(n1.last, n2.last) if operator == \"+\" else diffLinked(n1.last, n2.last)\n",
    "    \n",
    "#   pretty print results\n",
    "    resultStr = \"\".join([str(n.value) for n in result.iternodes()])\n",
    "    nums = [numOne, numTwo, resultStr]\n",
    "    longest = len(max(nums, key=len))\n",
    "    ops = [\" \", operator, \"=\"]\n",
    "    \n",
    "    for i in range(3): print('{} {:>{fill}}'.format(ops[i] ,nums[i] , fill=longest))"
   ]
  },
  {
   "cell_type": "markdown",
   "metadata": {},
   "source": [
    "## Resultat"
   ]
  },
  {
   "cell_type": "code",
   "execution_count": 58,
   "metadata": {},
   "outputs": [
    {
     "name": "stdout",
     "output_type": "stream",
     "text": [
      "  100000000019999999999001\n",
      "+                   100007\n",
      "= 100000000020000000099008\n"
     ]
    }
   ],
   "source": [
    "calcBigNums(\"100000000019999999999001 + 100007\")"
   ]
  },
  {
   "cell_type": "code",
   "execution_count": 59,
   "metadata": {},
   "outputs": [
    {
     "name": "stdout",
     "output_type": "stream",
     "text": [
      "  840000000000000200000\n",
      "- 100000000007000060004\n",
      "= 739999999993000139996\n"
     ]
    }
   ],
   "source": [
    "calcBigNums(\"840000000000000200000 - 100000000007000060004\")"
   ]
  },
  {
   "cell_type": "markdown",
   "metadata": {},
   "source": [
    "---------\n",
    "## Deloppgave 2, trær  \n"
   ]
  },
  {
   "cell_type": "markdown",
   "metadata": {},
   "source": [
    "Her brukte jeg bare et object/dict for å representere en node i treet.  \n",
    "Gikk for rekusjon igjen fordi det føltes naturlig for mange av oppgavene."
   ]
  },
  {
   "cell_type": "markdown",
   "metadata": {},
   "source": [
    "### Noder"
   ]
  },
  {
   "cell_type": "code",
   "execution_count": 60,
   "metadata": {},
   "outputs": [],
   "source": [
    "def Node(val):\n",
    "    return {\"val\": val, \"a\": None, \"b\": None}"
   ]
  },
  {
   "cell_type": "markdown",
   "metadata": {},
   "source": [
    "### Legge til noder"
   ]
  },
  {
   "cell_type": "code",
   "execution_count": 61,
   "metadata": {},
   "outputs": [],
   "source": [
    "def addNode(val, head):\n",
    "    \n",
    "#   Compare value with current node value\n",
    "    branch = \"a\" if val < head['val'] else \"b\"\n",
    "\n",
    "#   There is already a node in branch\n",
    "    if head[branch] is not None: return addNode(val, head[branch])\n",
    "\n",
    "#   Set new branch with val\n",
    "    head[branch] = Node(val)\n",
    "\n",
    "    \n",
    "def makeTree(words):\n",
    "    \n",
    "    args = words.split(\" \")\n",
    "\n",
    "#   create tree\n",
    "    head = Node(args[0])\n",
    "    for a in range(1, len(args)): addNode(args[a], head)\n",
    "    \n",
    "#   parse and pretty print\n",
    "    tree_layers = treeParse(head)\n",
    "    printTree(tree_layers)"
   ]
  },
  {
   "cell_type": "markdown",
   "metadata": {},
   "source": [
    "### Visualisering (pretty print)"
   ]
  },
  {
   "cell_type": "code",
   "execution_count": 62,
   "metadata": {},
   "outputs": [],
   "source": [
    "def getNodeAttr(node, attr, default=None):\n",
    "    if node is None: return default\n",
    "    return node[attr]\n",
    "\n",
    "def treeParse(node, lev = 0, result={}):\n",
    "    \n",
    "    result[str(lev)] = result.get(str(lev),[]) +  [getVal(node)]\n",
    "\n",
    "#   max recursion depth reached\n",
    "    if lev > 4: return\n",
    "    \n",
    "    treeParse(getNodeAttr(node,'a',None), lev + 1)\n",
    "    treeParse(getNodeAttr(node,'b',None), lev + 1)\n",
    "    return result.values()\n",
    "\n",
    "def printTree(tree_layers):\n",
    "    full_width = 64\n",
    "    for level in tree_layers:\n",
    "        width = int(full_width / len(level))\n",
    "        tree_layer = ['{:^{}s}'.format(v, width) for v in level]\n",
    "        print( \"\".join(tree_layer) + \"\\n\\n\")"
   ]
  },
  {
   "cell_type": "code",
   "execution_count": 48,
   "metadata": {},
   "outputs": [
    {
     "name": "stdout",
     "output_type": "stream",
     "text": [
      "                              hode                              \n",
      "\n",
      "\n",
      "              bein                            tann              \n",
      "\n",
      "\n",
      "      arm             hals            hånd             tå       \n",
      "\n",
      "\n",
      "                                                                \n",
      "\n",
      "\n",
      "                                                                \n",
      "\n",
      "\n",
      "                                                                \n",
      "\n",
      "\n"
     ]
    }
   ],
   "source": [
    "makeTree(\"hode bein hals arm tann hånd tå\")"
   ]
  },
  {
   "cell_type": "code",
   "execution_count": 63,
   "metadata": {},
   "outputs": [
    {
     "name": "stdout",
     "output_type": "stream",
     "text": [
      "                               f                                \n",
      "\n",
      "\n",
      "               d                               h                \n",
      "\n",
      "\n",
      "       b               e               g               i        \n",
      "\n",
      "\n",
      "   a       c                                                    \n",
      "\n",
      "\n",
      "                                                                \n",
      "\n",
      "\n",
      "                                                                \n",
      "\n",
      "\n"
     ]
    }
   ],
   "source": [
    "makeTree(\"f d h b e g i a c\")"
   ]
  }
 ],
 "metadata": {
  "kernelspec": {
   "display_name": "Python 3",
   "language": "python",
   "name": "python3"
  },
  "language_info": {
   "codemirror_mode": {
    "name": "ipython",
    "version": 3
   },
   "file_extension": ".py",
   "mimetype": "text/x-python",
   "name": "python",
   "nbconvert_exporter": "python",
   "pygments_lexer": "ipython3",
   "version": "3.8.5"
  }
 },
 "nbformat": 4,
 "nbformat_minor": 4
}
