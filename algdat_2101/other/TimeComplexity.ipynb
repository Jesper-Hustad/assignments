{
 "cells": [
  {
   "cell_type": "markdown",
   "metadata": {},
   "source": [
    "# Setting up data processing and capturing"
   ]
  },
  {
   "cell_type": "markdown",
   "metadata": {},
   "source": [
    "## Plot data functions\n",
    "How we plot the data"
   ]
  },
  {
   "cell_type": "code",
   "execution_count": 8,
   "metadata": {},
   "outputs": [],
   "source": [
    "import matplotlib.pyplot as plt\n",
    "import numpy as np"
   ]
  },
  {
   "cell_type": "code",
   "execution_count": 53,
   "metadata": {},
   "outputs": [],
   "source": [
    "def plot(x,y):\n",
    "\n",
    "    plt.ylabel('operations n')\n",
    "    plt.xlabel('time O(n)')\n",
    "    plt.xscale(\"log\")\n",
    "    plt.yscale(\"log\")\n",
    "    \n",
    "    plt.rcParams['axes.facecolor']='lightgrey'\n",
    "    plt.rcParams['savefig.facecolor']='white'\n",
    "    \n",
    "    # Show the major grid lines with dark grey lines\n",
    "    plt.grid(b=True, which='major', color='#FFFFFF', linestyle='-')\n",
    "\n",
    "    # Show the minor grid lines with very faint and almost transparent grey lines\n",
    "    plt.minorticks_on()\n",
    "    plt.grid(b=True, which='minor', color='#FFFFFF', linestyle='-', alpha=0.3)\n",
    "    \n",
    "    plt.plot(x,y,'ro')\n",
    "    \n",
    "    \n",
    "    plt.show()"
   ]
  },
  {
   "cell_type": "code",
   "execution_count": 44,
   "metadata": {},
   "outputs": [],
   "source": [
    "def compare(results):\n",
    "    middle = [result[0] for result in results]\n",
    "    biggest = [result[1] for result in results]\n",
    "\n",
    "    ind = np.arange(len(results)) \n",
    "    width = 0.35       \n",
    "    plt.bar(ind, middle, width, label='medium (31)')\n",
    "    plt.bar(ind + width, biggest, width, label='max (1258)')\n",
    "\n",
    "    plt.ylabel('time (µs)')\n",
    "    plt.title('Times by algorithm type')\n",
    "\n",
    "    plt.xticks(ind + width / 2, ('simple', 'advanced', 'native'))\n",
    "    plt.legend(loc='best')\n",
    "    plt.yscale(\"log\")\n",
    "    plt.show()"
   ]
  },
  {
   "cell_type": "markdown",
   "metadata": {},
   "source": [
    "## Time calculation code\n",
    "We repeat the functions many times and take the avrage as even with the highest precision  \n",
    "method possible the faster algorithms take less time than we can meassure\n",
    "\n",
    "We take logarithmic steps up in complexity to get a linear spread of points when we go to view the results in a logarithmic scale afterwards"
   ]
  },
  {
   "cell_type": "code",
   "execution_count": 11,
   "metadata": {},
   "outputs": [],
   "source": [
    "def do_n_times(func,x,n,times):\n",
    "    for i in range(times):\n",
    "        func(x,n)"
   ]
  },
  {
   "cell_type": "code",
   "execution_count": 30,
   "metadata": {},
   "outputs": [],
   "source": [
    "import time\n",
    "def take_time_of(function,x,n):\n",
    "    repeats = 10**5\n",
    "    start = time.time()\n",
    "    \n",
    "    do_n_times(function,x,n,repeats)\n",
    "    end = time.time()\n",
    "    \n",
    "    avrage = (end-start) / repeats \n",
    "    return avrage"
   ]
  },
  {
   "cell_type": "code",
   "execution_count": 13,
   "metadata": {},
   "outputs": [],
   "source": [
    "import math\n",
    "def complexity_of(function,x,maxRecursion):\n",
    "    \n",
    "    def O(n):\n",
    "        return take_time_of(function,x,n) \n",
    "    \n",
    "    step_length = 0.1\n",
    "    tests = round(math.log10(maxRecursion) / step_length)\n",
    "    \n",
    "    operations = [round(10**(n * step_length)) for n in range(tests)]\n",
    "    times = [O(n) for n in operations]\n",
    "    \n",
    "    plot(times,operations)\n",
    "    middle = times[round(len(times)/2)]* 10**(6)\n",
    "    biggest = times[-1]* 10**(6) \n",
    "    return [middle, biggest]"
   ]
  },
  {
   "cell_type": "markdown",
   "metadata": {},
   "source": [
    "\n",
    "--------------------\n",
    "\n",
    "# \n",
    "\n",
    "# Defining Equations "
   ]
  },
  {
   "cell_type": "markdown",
   "metadata": {},
   "source": [
    "## Simple exponent equation \n",
    "From page **28** task **2.1 - 1**"
   ]
  },
  {
   "cell_type": "markdown",
   "metadata": {},
   "source": [
    "$ x^n   \\left\\{\n",
    "\\begin{array}{ll}\n",
    "      1 & n=0 \\\\\n",
    "      x * x^{n-1} & n>0 \\\\\n",
    "\\end{array} \n",
    "\\right.  $"
   ]
  },
  {
   "cell_type": "code",
   "execution_count": 58,
   "metadata": {
    "scrolled": true
   },
   "outputs": [],
   "source": [
    "def simple_xpn(x,n):\n",
    "    if n == 0: return 1\n",
    "    return x * simple_xpn(x,n-1)"
   ]
  },
  {
   "cell_type": "markdown",
   "metadata": {},
   "source": [
    "## Advanced Exponent Equation \n",
    "From page **38** task **2.1 - 1**"
   ]
  },
  {
   "cell_type": "markdown",
   "metadata": {},
   "source": [
    "$ x^n   \\left\\{\n",
    "\\begin{array}{ll}\n",
    "      1 & n=0 \\\\\n",
    "      ({x^2})^{({n-1})/2} * x & when\\: n\\: is\\: odd \\\\\n",
    "      ({x^2})^{n/2} & when\\: n\\: is\\: even \\\\\n",
    "\\end{array} \n",
    "\\right.  $"
   ]
  },
  {
   "cell_type": "code",
   "execution_count": 59,
   "metadata": {
    "scrolled": false
   },
   "outputs": [],
   "source": [
    "def advanced_xpn(x,n):\n",
    "    if n == 0: return 1\n",
    "    if n%2 == 1: return x * advanced_xpn(x*x,(n-1)/2)\n",
    "    return advanced_xpn(x*x, n/2)"
   ]
  },
  {
   "cell_type": "markdown",
   "metadata": {},
   "source": [
    "## Native Exponential Equation \n",
    "Tough i could not find any sources on how exactly Python implements its exponential function, we can take an educated guess it uses some variant of the [Addition-chain exponentiation](https://en.wikipedia.org/wiki/Addition-chain_exponentiation) that can be optimized to run at a low time complexity:\n",
    ">In general, the number of multiplication operations required to compute bn can be reduced to Θ(log n)\n",
    ">\n",
    "> -- <cite>[Gordon, D. M.](https://www.dmgordon.org/papers/jalg.pdf)</cite>\n",
    "\n",
    "We can see in our results that indeed the algorithm is a lot faster, especially at lower n computations"
   ]
  },
  {
   "cell_type": "code",
   "execution_count": 60,
   "metadata": {
    "scrolled": false
   },
   "outputs": [],
   "source": [
    "def native_xpn(x,n):\n",
    "    return x**n"
   ]
  },
  {
   "cell_type": "markdown",
   "metadata": {},
   "source": [
    "## Test of Equations"
   ]
  },
  {
   "cell_type": "code",
   "execution_count": 61,
   "metadata": {},
   "outputs": [
    {
     "name": "stdout",
     "output_type": "stream",
     "text": [
      "Passed ✅ : Simple Equation\n",
      "Passed ✅ : Advanced Equation\n",
      "Passed ✅ : Native Equation\n"
     ]
    }
   ],
   "source": [
    "def testExponential(name,func):\n",
    "    result = \"Passed ✅\" if func(2,10)==1024 and func(3,14)==4782969 else \"Failed ❌\"\n",
    "    print(f\"{result} : {name} Equation\")\n",
    "    \n",
    "testExponential(\"Simple\",simple_xpn)\n",
    "testExponential(\"Advanced\",advanced_xpn)\n",
    "testExponential(\"Native\",native_xpn)"
   ]
  },
  {
   "cell_type": "markdown",
   "metadata": {},
   "source": [
    "--------------------\n",
    "\n",
    "# \n",
    "# Different execution times\n",
    "In the table bellow we can see how different the execution times are (note that the time scale is logarithmic!)  \n",
    "Bellow we go trough calculating the time complexities."
   ]
  },
  {
   "cell_type": "code",
   "execution_count": 47,
   "metadata": {
    "scrolled": true
   },
   "outputs": [
    {
     "data": {
      "image/png": "[encoded data removed]",
      "text/plain": [
       "<Figure size 432x288 with 1 Axes>"
      ]
     },
     "metadata": {
      "needs_background": "light"
     },
     "output_type": "display_data"
    }
   ],
   "source": [
    "compare([simple, advanced, native])"
   ]
  },
  {
   "cell_type": "markdown",
   "metadata": {},
   "source": [
    "\n",
    "\n",
    "### Simple equation\n",
    "With the simple equation we can find the time complexity using asymptotic analysis.  \n",
    "We find a time complexity of: \n",
    " \n",
    " \n",
    "$\n",
    "T(n) = T(n-1) + 1 = n\\\\\n",
    "\\Rightarrow O(n)\n",
    "$\n",
    "\n",
    "The linear result from the asymptotic analysis seems to fit the data well."
   ]
  },
  {
   "cell_type": "code",
   "execution_count": 55,
   "metadata": {},
   "outputs": [
    {
     "data": {
      "image/png": "[encoded data removed]",
      "text/plain": [
       "<Figure size 432x288 with 1 Axes>"
      ]
     },
     "metadata": {
      "needs_background": "light"
     },
     "output_type": "display_data"
    }
   ],
   "source": [
    "simple = complexity_of(simple_xpn,2,1500)"
   ]
  },
  {
   "cell_type": "markdown",
   "metadata": {},
   "source": [
    "### Advanced equation\n",
    "For the advanced equation we can use a general method.  \n",
    "Time complexity of recursive functions can all be described with the equation:  \n",
    "\n",
    "\n",
    "$\n",
    "T(n)  \\left\\{\n",
    "\\begin{array}{ll}\n",
    "      1 & whe n=0 \\\\\n",
    "      aT\\:({n\\:/\\:b}) + cn^k & whe n>0 \\\\\n",
    "\\end{array} \n",
    "\\right.\\\\\n",
    "$\n",
    "\n",
    "\n",
    "\n",
    "$\n",
    "b^k < a \\:\\: \\Rightarrow \\:\\: T(n) \\in O(n^{logb\\: a})\\\\\n",
    "b^k = a \\:\\: \\Rightarrow \\:\\: T(n) \\in O(n^k * {log\\: n})\\\\\n",
    "b^k > a \\:\\: \\Rightarrow \\:\\: T(n) \\in O(n^k)\\\\\n",
    "$\n",
    "\n",
    "So for our advanced function putting in for the variables we get: \n",
    "\n",
    "$\n",
    "b=2\\\\\n",
    "a=1\\\\\n",
    "k=0\\\\\n",
    "$\n",
    "\n",
    "$\n",
    "b^k=a\\:\\: \\Rightarrow\\: O(n^0 * log(n)) \\Rightarrow\\: O(log(n))\n",
    "$\n",
    "\n",
    "When we look at the plot for our advanced equation we see a slight downward trend at the end, but\n",
    "This may simply be because our operation count isn't high enough, unfortunately due to recursion limits we can't increase that any further"
   ]
  },
  {
   "cell_type": "code",
   "execution_count": 56,
   "metadata": {},
   "outputs": [
    {
     "data": {
      "image/png": "[encoded data removed]",
      "text/plain": [
       "<Figure size 432x288 with 1 Axes>"
      ]
     },
     "metadata": {
      "needs_background": "light"
     },
     "output_type": "display_data"
    }
   ],
   "source": [
    "advanced = complexity_of(advanced_xpn,2,1500)"
   ]
  },
  {
   "cell_type": "markdown",
   "metadata": {},
   "source": [
    "### Native function\n",
    "\n",
    "Though we don't have the algorithm for the native function using our educated guess about what is running under the hood and that the plotted graph can be fitted very close to $O(log(n))$ we can assume it is somethind to that extent.\n"
   ]
  },
  {
   "cell_type": "code",
   "execution_count": 57,
   "metadata": {
    "scrolled": true
   },
   "outputs": [
    {
     "data": {
      "image/png": "[encoded data removed]",
      "text/plain": [
       "<Figure size 432x288 with 1 Axes>"
      ]
     },
     "metadata": {
      "needs_background": "light"
     },
     "output_type": "display_data"
    }
   ],
   "source": [
    "native = complexity_of(native_xpn,2,1500)"
   ]
  },
  {
   "cell_type": "markdown",
   "metadata": {},
   "source": [
    "## Authors\n",
    "- Jesper Hustad  \n",
    "\n",
    "- Magnus Nordahl\n",
    "- Michal Panasewicz\n",
    "- Mats Erik Tuhus Olsen\n",
    "- Henrik Latsch"
   ]
  }
 ],
 "metadata": {
  "kernelspec": {
   "display_name": "Python 3",
   "language": "python",
   "name": "python3"
  },
  "language_info": {
   "codemirror_mode": {
    "name": "ipython",
    "version": 3
   },
   "file_extension": ".py",
   "mimetype": "text/x-python",
   "name": "python",
   "nbconvert_exporter": "python",
   "pygments_lexer": "ipython3",
   "version": "3.8.5"
  }
 },
 "nbformat": 4,
 "nbformat_minor": 4
}
