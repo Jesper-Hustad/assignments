{
 "cells": [
  {
   "cell_type": "code",
   "execution_count": 1,
   "metadata": {},
   "outputs": [],
   "source": [
    "from pyllist import sllist, sllistnode"
   ]
  },
  {
   "cell_type": "code",
   "execution_count": 89,
   "metadata": {},
   "outputs": [
    {
     "name": "stdout",
     "output_type": "stream",
     "text": [
      "['Jørgen Selsøyvold', 'Torbjørn Bakke', 'Mats Sollid Eide', 'Morten Stavik Eggen', 'Fredrik Holm Julsen', 'Stine Rygh', 'Linda Katrine Larsen', 'Lars-Håvard Holter Bråten', 'Ilona Podliashanyk', 'Henrik Tengs Hafsø', 'Ingebrigt Kristoffer Thomassen Hovind', 'Stian Fjæran Mogen', 'Simon Jensen', 'Peder Johan Lindberg', 'Hermann Owren Elton', 'Sigmund Ole Granaas', 'Michal Robert Panasewicz', 'Mathilde Kvam Bugge-Hundere', 'Nicolay Schiøll-Johansen', 'Ida Heggen Trosdahl', 'Karl Klykken Labrador', 'Hans William Forbrigd', 'Eirik Steira', 'Ola Kristoffer Hoff', 'Thomas Thien Dinh Tran', 'Oline Amundsen', 'Mahmoud Hasan Shawish', 'Sergio Martinez', 'Kenneth Solvoll', 'Iben Lind Dragesund', 'Tommy Duc Luu', 'Mathias Myrold', 'Odin Kvarving', 'Herman Tolpinrud Aagaard', 'Sindre August Strøm', 'Martin Slind Hagen', 'Magnus Øvre Sygard', 'Rokas Bliudzius', 'Kamilla Mortensen', 'Jenny Farstad Blindheimsvik', 'Matilde Volle Fiborg', 'Erik Kaasbøll Haugen', 'Mai Helene Grosås', 'Anders Normann Hermanrud', 'Olaf Rosendahl', 'Magnus Nordahl', 'Magnus Bredeli', 'Niklas Johan Bjøru', 'Truls Kolstad Stephensen', 'Viljar Svare Ødelien', 'Endré Hadzalic', 'Håvard Tysland', 'Ellen Mikkelsen', 'Lea Grønning', 'Erling Sung Sletta', 'Lars Brodin Østby', 'Øyvind Henriksen', 'Linn Camilla Bauer', 'Thomas Huru', 'Hogne Heggdal Winther', 'Torbjørn Øverås', 'Torstein Øvstedal', 'Chloe Kumari Hansen', 'Ole Løkken', 'Eivind Berger-Nilsen', 'Håvard Holm Fyhn', 'Diderik Kramer', 'Robin Christoffer Vold', 'Mads Lundegaard', 'Lukas Øystein Normann Stjernen', 'Jens Mjønes Loe', 'Mats Erik Tuhus Olsen', 'Sander Pettersen', 'Jesper Forrest Hustad', 'Simon Dreyer Vetter', 'Mattias Agentoft Eggen', 'Andrea Marie Ramberg Berge', 'Stian Valbekmo Selvåg', 'Olof André Marklund', 'Nora Evensen Jansrud', 'Georg Vilhelm Seip', 'Arvid Jr Kirkbakk', 'Henrik Latsch Haugberg', 'Joakim Skogø Langvand', 'Scott Rydberg Sonen', 'Jostein Johansen Aune']\n",
      "86\n"
     ]
    }
   ],
   "source": [
    "import io\n",
    "file = io.open(\"navn20.txt\", mode=\"r\", encoding=\"utf-8\")\n",
    "navn = file.read().replace(',', ' ').split('\\n')\n",
    "\n",
    "print(navn)\n",
    "print(len(navn))"
   ]
  },
  {
   "cell_type": "code",
   "execution_count": null,
   "metadata": {},
   "outputs": [],
   "source": []
  },
  {
   "cell_type": "code",
   "execution_count": 3,
   "metadata": {},
   "outputs": [
    {
     "name": "stdout",
     "output_type": "stream",
     "text": [
      "\n"
     ]
    }
   ],
   "source": [
    "import hashlib\n",
    "import random\n",
    "toHash = str('Hello world!').encode('utf-8')\n",
    "\n",
    "print()"
   ]
  },
  {
   "cell_type": "code",
   "execution_count": 97,
   "metadata": {},
   "outputs": [],
   "source": [
    "def putIn(hashmap, value):\n",
    "    global collisions\n",
    "    \n",
    "    hashCode = abs(hash(value)) % len(hashmap)\n",
    "    \n",
    "    print(f\"{hashCode =} {value =}\")\n",
    "    node = hashmap[hashCode].first\n",
    "    \n",
    "    if hashmap[hashCode].size > 0:\n",
    "        \n",
    "        while True:\n",
    "            print(f\"Kollisjon {value} - {node.value}\")\n",
    "            collisions += 1\n",
    "            \n",
    "            if node.next is None: break\n",
    "            node = node.next\n",
    "        \n",
    "    hashmap[hashCode].append(value)"
   ]
  },
  {
   "cell_type": "code",
   "execution_count": 5,
   "metadata": {},
   "outputs": [],
   "source": [
    "def newNode(value):\n",
    "    return {'val' : value, 'nxt': None}"
   ]
  },
  {
   "cell_type": "code",
   "execution_count": 6,
   "metadata": {},
   "outputs": [],
   "source": [
    "# hashmap = [sllist()] * 2\n",
    "# hashmap[1].appendright(5)\n",
    "# node = hashmap[1].first\n",
    "# print(node.next)"
   ]
  },
  {
   "cell_type": "code",
   "execution_count": 98,
   "metadata": {},
   "outputs": [
    {
     "name": "stdout",
     "output_type": "stream",
     "text": [
      "hashCode =44 value ='Jørgen Selsøyvold'\n",
      "hashCode =97 value ='Torbjørn Bakke'\n",
      "hashCode =78 value ='Mats Sollid Eide'\n",
      "hashCode =9 value ='Morten Stavik Eggen'\n",
      "hashCode =2 value ='Fredrik Holm Julsen'\n",
      "hashCode =29 value ='Stine Rygh'\n",
      "hashCode =100 value ='Linda Katrine Larsen'\n",
      "hashCode =86 value ='Lars-Håvard Holter Bråten'\n",
      "hashCode =64 value ='Ilona Podliashanyk'\n",
      "hashCode =73 value ='Henrik Tengs Hafsø'\n",
      "hashCode =28 value ='Ingebrigt Kristoffer Thomassen Hovind'\n",
      "hashCode =21 value ='Stian Fjæran Mogen'\n",
      "hashCode =69 value ='Simon Jensen'\n",
      "hashCode =61 value ='Peder Johan Lindberg'\n",
      "hashCode =81 value ='Hermann Owren Elton'\n",
      "hashCode =66 value ='Sigmund Ole Granaas'\n",
      "hashCode =72 value ='Michal Robert Panasewicz'\n",
      "hashCode =88 value ='Mathilde Kvam Bugge-Hundere'\n",
      "hashCode =21 value ='Nicolay Schiøll-Johansen'\n",
      "Kollisjon Nicolay Schiøll-Johansen - Stian Fjæran Mogen\n",
      "hashCode =39 value ='Ida Heggen Trosdahl'\n",
      "hashCode =44 value ='Karl Klykken Labrador'\n",
      "Kollisjon Karl Klykken Labrador - Jørgen Selsøyvold\n",
      "hashCode =110 value ='Hans William Forbrigd'\n",
      "hashCode =16 value ='Eirik Steira'\n",
      "hashCode =80 value ='Ola Kristoffer Hoff'\n",
      "hashCode =94 value ='Thomas Thien Dinh Tran'\n",
      "hashCode =7 value ='Oline Amundsen'\n",
      "hashCode =102 value ='Mahmoud Hasan Shawish'\n",
      "hashCode =83 value ='Sergio Martinez'\n",
      "hashCode =62 value ='Kenneth Solvoll'\n",
      "hashCode =110 value ='Iben Lind Dragesund'\n",
      "Kollisjon Iben Lind Dragesund - Hans William Forbrigd\n",
      "hashCode =77 value ='Tommy Duc Luu'\n",
      "hashCode =44 value ='Mathias Myrold'\n",
      "Kollisjon Mathias Myrold - Jørgen Selsøyvold\n",
      "Kollisjon Mathias Myrold - Karl Klykken Labrador\n",
      "hashCode =62 value ='Odin Kvarving'\n",
      "Kollisjon Odin Kvarving - Kenneth Solvoll\n",
      "hashCode =56 value ='Herman Tolpinrud Aagaard'\n",
      "hashCode =107 value ='Sindre August Strøm'\n",
      "hashCode =7 value ='Martin Slind Hagen'\n",
      "Kollisjon Martin Slind Hagen - Oline Amundsen\n",
      "hashCode =107 value ='Magnus Øvre Sygard'\n",
      "Kollisjon Magnus Øvre Sygard - Sindre August Strøm\n",
      "hashCode =31 value ='Rokas Bliudzius'\n",
      "hashCode =108 value ='Kamilla Mortensen'\n",
      "hashCode =15 value ='Jenny Farstad Blindheimsvik'\n",
      "hashCode =76 value ='Matilde Volle Fiborg'\n",
      "hashCode =104 value ='Erik Kaasbøll Haugen'\n",
      "hashCode =76 value ='Mai Helene Grosås'\n",
      "Kollisjon Mai Helene Grosås - Matilde Volle Fiborg\n",
      "hashCode =83 value ='Anders Normann Hermanrud'\n",
      "Kollisjon Anders Normann Hermanrud - Sergio Martinez\n",
      "hashCode =67 value ='Olaf Rosendahl'\n",
      "hashCode =38 value ='Magnus Nordahl'\n",
      "hashCode =83 value ='Magnus Bredeli'\n",
      "Kollisjon Magnus Bredeli - Sergio Martinez\n",
      "Kollisjon Magnus Bredeli - Anders Normann Hermanrud\n",
      "hashCode =28 value ='Niklas Johan Bjøru'\n",
      "Kollisjon Niklas Johan Bjøru - Ingebrigt Kristoffer Thomassen Hovind\n",
      "hashCode =38 value ='Truls Kolstad Stephensen'\n",
      "Kollisjon Truls Kolstad Stephensen - Magnus Nordahl\n",
      "hashCode =94 value ='Viljar Svare Ødelien'\n",
      "Kollisjon Viljar Svare Ødelien - Thomas Thien Dinh Tran\n",
      "hashCode =72 value ='Endré Hadzalic'\n",
      "Kollisjon Endré Hadzalic - Michal Robert Panasewicz\n",
      "hashCode =53 value ='Håvard Tysland'\n",
      "hashCode =52 value ='Ellen Mikkelsen'\n",
      "hashCode =99 value ='Lea Grønning'\n",
      "hashCode =6 value ='Erling Sung Sletta'\n",
      "hashCode =0 value ='Lars Brodin Østby'\n",
      "hashCode =101 value ='Øyvind Henriksen'\n",
      "hashCode =98 value ='Linn Camilla Bauer'\n",
      "hashCode =15 value ='Thomas Huru'\n",
      "Kollisjon Thomas Huru - Jenny Farstad Blindheimsvik\n",
      "hashCode =106 value ='Hogne Heggdal Winther'\n",
      "hashCode =105 value ='Torbjørn Øverås'\n",
      "hashCode =74 value ='Torstein Øvstedal'\n",
      "hashCode =23 value ='Chloe Kumari Hansen'\n",
      "hashCode =45 value ='Ole Løkken'\n",
      "hashCode =69 value ='Eivind Berger-Nilsen'\n",
      "Kollisjon Eivind Berger-Nilsen - Simon Jensen\n",
      "hashCode =24 value ='Håvard Holm Fyhn'\n",
      "hashCode =32 value ='Diderik Kramer'\n",
      "hashCode =32 value ='Robin Christoffer Vold'\n",
      "Kollisjon Robin Christoffer Vold - Diderik Kramer\n",
      "hashCode =97 value ='Mads Lundegaard'\n",
      "Kollisjon Mads Lundegaard - Torbjørn Bakke\n",
      "hashCode =43 value ='Lukas Øystein Normann Stjernen'\n",
      "hashCode =91 value ='Jens Mjønes Loe'\n",
      "hashCode =27 value ='Mats Erik Tuhus Olsen'\n",
      "hashCode =91 value ='Sander Pettersen'\n",
      "Kollisjon Sander Pettersen - Jens Mjønes Loe\n",
      "hashCode =76 value ='Jesper Forrest Hustad'\n",
      "Kollisjon Jesper Forrest Hustad - Matilde Volle Fiborg\n",
      "Kollisjon Jesper Forrest Hustad - Mai Helene Grosås\n",
      "hashCode =3 value ='Simon Dreyer Vetter'\n",
      "hashCode =42 value ='Mattias Agentoft Eggen'\n",
      "hashCode =43 value ='Andrea Marie Ramberg Berge'\n",
      "Kollisjon Andrea Marie Ramberg Berge - Lukas Øystein Normann Stjernen\n",
      "hashCode =103 value ='Stian Valbekmo Selvåg'\n",
      "hashCode =112 value ='Olof André Marklund'\n",
      "hashCode =52 value ='Nora Evensen Jansrud'\n",
      "Kollisjon Nora Evensen Jansrud - Ellen Mikkelsen\n",
      "hashCode =41 value ='Georg Vilhelm Seip'\n",
      "hashCode =72 value ='Arvid Jr Kirkbakk'\n",
      "Kollisjon Arvid Jr Kirkbakk - Michal Robert Panasewicz\n",
      "Kollisjon Arvid Jr Kirkbakk - Endré Hadzalic\n",
      "hashCode =1 value ='Henrik Latsch Haugberg'\n",
      "hashCode =91 value ='Joakim Skogø Langvand'\n",
      "Kollisjon Joakim Skogø Langvand - Jens Mjønes Loe\n",
      "Kollisjon Joakim Skogø Langvand - Sander Pettersen\n",
      "hashCode =16 value ='Scott Rydberg Sonen'\n",
      "Kollisjon Scott Rydberg Sonen - Eirik Steira\n",
      "hashCode =98 value ='Jostein Johansen Aune'\n",
      "Kollisjon Jostein Johansen Aune - Linn Camilla Bauer\n",
      "collisions=31\n",
      "lastfaktor=0.5309734513274336\n"
     ]
    }
   ],
   "source": [
    "collisions = 0\n",
    "hashmap = [sllist() for i in range(113)]\n",
    "\n",
    "\n",
    "# print(hashmap)\n",
    "for n in navn: putIn(hashmap, n)\n",
    "    \n",
    "    \n",
    "# print(hashmap)\n",
    "print(f\"{collisions=}\")\n",
    "lastfaktor = 1 - (hashmap.count(sllist()) / len(hashmap))\n",
    "print(f\"{lastfaktor=}\")"
   ]
  }
 ],
 "metadata": {
  "kernelspec": {
   "display_name": "Python 3",
   "language": "python",
   "name": "python3"
  },
  "language_info": {
   "codemirror_mode": {
    "name": "ipython",
    "version": 3
   },
   "file_extension": ".py",
   "mimetype": "text/x-python",
   "name": "python",
   "nbconvert_exporter": "python",
   "pygments_lexer": "ipython3",
   "version": "3.8.5"
  }
 },
 "nbformat": 4,
 "nbformat_minor": 4
}
