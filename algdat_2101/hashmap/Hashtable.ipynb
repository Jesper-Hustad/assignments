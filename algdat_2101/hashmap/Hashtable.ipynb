{
 "cells": [
  {
   "cell_type": "markdown",
   "metadata": {},
   "source": [
    "### Importering av navn fil og biblotek"
   ]
  },
  {
   "cell_type": "code",
   "execution_count": 100,
   "metadata": {},
   "outputs": [],
   "source": [
    "from pyllist import sllist, sllistnode\n",
    "import io\n",
    "file = io.open(\"navn20.txt\", mode=\"r\", encoding=\"utf-8\")\n",
    "navn = file.read().replace(',', ' ').split('\\n')"
   ]
  },
  {
   "cell_type": "markdown",
   "metadata": {},
   "source": [
    "## Deloppgave 1: Hashtabell med tekstnøkler\n"
   ]
  },
  {
   "cell_type": "code",
   "execution_count": 104,
   "metadata": {},
   "outputs": [],
   "source": [
    "def putIn(hashmap, value):\n",
    "    global collisions\n",
    "    \n",
    "    hashCode = abs(hash(value) % len(hashmap))\n",
    "    \n",
    "    node = hashmap[hashCode].first\n",
    "    \n",
    "    if hashmap[hashCode].size > 0:\n",
    "        \n",
    "        while True:\n",
    "            print(f\"Kollisjon {value} - {node.value}\")\n",
    "            collisions += 1\n",
    "            \n",
    "            if node.next is None: break\n",
    "            node = node.next\n",
    "        \n",
    "    hashmap[hashCode].append(value)"
   ]
  },
  {
   "cell_type": "markdown",
   "metadata": {},
   "source": [
    "### Utskrivingkode"
   ]
  },
  {
   "cell_type": "code",
   "execution_count": 125,
   "metadata": {},
   "outputs": [
    {
     "name": "stdout",
     "output_type": "stream",
     "text": [
      "Kollisjon Morten Stavik Eggen - Torbjørn Bakke\n",
      "Kollisjon Sigmund Ole Granaas - Henrik Tengs Hafsø\n",
      "Kollisjon Mathilde Kvam Bugge-Hundere - Hermann Owren Elton\n",
      "Kollisjon Ida Heggen Trosdahl - Lars-Håvard Holter Bråten\n",
      "Kollisjon Eirik Steira - Hans William Forbrigd\n",
      "Kollisjon Thomas Thien Dinh Tran - Ilona Podliashanyk\n",
      "Kollisjon Sergio Martinez - Ola Kristoffer Hoff\n",
      "Kollisjon Sindre August Strøm - Ilona Podliashanyk\n",
      "Kollisjon Sindre August Strøm - Thomas Thien Dinh Tran\n",
      "Kollisjon Olaf Rosendahl - Ingebrigt Kristoffer Thomassen Hovind\n",
      "Kollisjon Magnus Nordahl - Jørgen Selsøyvold\n",
      "Kollisjon Magnus Bredeli - Matilde Volle Fiborg\n",
      "Kollisjon Niklas Johan Bjøru - Tommy Duc Luu\n",
      "Kollisjon Endré Hadzalic - Ilona Podliashanyk\n",
      "Kollisjon Endré Hadzalic - Thomas Thien Dinh Tran\n",
      "Kollisjon Endré Hadzalic - Sindre August Strøm\n",
      "Kollisjon Hogne Heggdal Winther - Truls Kolstad Stephensen\n",
      "Kollisjon Robin Christoffer Vold - Thomas Huru\n",
      "Kollisjon Lukas Øystein Normann Stjernen - Ingebrigt Kristoffer Thomassen Hovind\n",
      "Kollisjon Lukas Øystein Normann Stjernen - Olaf Rosendahl\n",
      "Kollisjon Jens Mjønes Loe - Stian Fjæran Mogen\n",
      "Kollisjon Mats Erik Tuhus Olsen - Mathias Myrold\n",
      "Kollisjon Sander Pettersen - Mai Helene Grosås\n",
      "Kollisjon Nora Evensen Jansrud - Torbjørn Øverås\n",
      "Kollisjon Arvid Jr Kirkbakk - Mai Helene Grosås\n",
      "Kollisjon Arvid Jr Kirkbakk - Sander Pettersen\n",
      "Kollisjon Henrik Latsch Haugberg - Matilde Volle Fiborg\n",
      "Kollisjon Henrik Latsch Haugberg - Magnus Bredeli\n",
      "Kollisjon Scott Rydberg Sonen - Lars-Håvard Holter Bråten\n",
      "Kollisjon Scott Rydberg Sonen - Ida Heggen Trosdahl\n",
      "Kollisjon Jostein Johansen Aune - Andrea Marie Ramberg Berge\n",
      "\n",
      "data:\n",
      "collisions = 31\n",
      "lastfaktor = 0.6391752577319587\n"
     ]
    }
   ],
   "source": [
    "size = 97\n",
    "hashmap = [sllist() for i in range(size)]\n",
    "collisions = 0\n",
    "\n",
    "for n in navn: putIn(hashmap, n)\n",
    "    \n",
    "lastfaktor = 1 - (hashmap.count(sllist()) / len(hashmap))\n",
    "print(\"\\ndata:\")\n",
    "print(f\"{collisions = }\")\n",
    "print(f\"{lastfaktor = }\")"
   ]
  },
  {
   "cell_type": "markdown",
   "metadata": {},
   "source": [
    "## Deloppgave 2: Hashtabeller med heltallsnøkler og ytelse"
   ]
  },
  {
   "cell_type": "code",
   "execution_count": 141,
   "metadata": {},
   "outputs": [],
   "source": [
    "def putInInt(hashmap, value):\n",
    "    global collisions\n",
    "    \n",
    "#   single hash\n",
    "    hashCode = abs(value) % len(hashmap)\n",
    "    \n",
    "#   double hashing\n",
    "    if hashmap[hashCode].size > 0:\n",
    "        hashCode = hashCode - (value % hashCode)\n",
    "        \n",
    "    node = hashmap[hashCode].first\n",
    "    \n",
    "    if hashmap[hashCode].size > 0:\n",
    "        \n",
    "        while True:\n",
    "            collisions += 1\n",
    "            \n",
    "            if node.next is None: break\n",
    "            node = node.next\n",
    "        \n",
    "    hashmap[hashCode].append(value)"
   ]
  },
  {
   "cell_type": "code",
   "execution_count": 148,
   "metadata": {},
   "outputs": [],
   "source": [
    "def putInNative(hashmap, value):\n",
    "    hashmap[value] = True"
   ]
  },
  {
   "cell_type": "markdown",
   "metadata": {},
   "source": [
    "### Utskrivingkode"
   ]
  },
  {
   "cell_type": "code",
   "execution_count": 153,
   "metadata": {},
   "outputs": [
    {
     "name": "stdout",
     "output_type": "stream",
     "text": [
      "Egen hashmap med dobbel hashing:\n",
      "timeTaken = 4.994411468505859\n",
      "collisions = 556906\n",
      "lastfaktor = 0.725595\n",
      "\n",
      "Native hashmap i python:\n",
      "timeTaken = 0.336503267288208\n"
     ]
    }
   ],
   "source": [
    "sizeList = 10**6\n",
    "collisions = 0\n",
    "\n",
    "intHashmap = [sllist() for i in range(sizeList)]\n",
    "\n",
    "import random\n",
    "randNumbers = [random.randint(1, 2147483647) for i in range(sizeList)]\n",
    "\n",
    "import time\n",
    "start_time = time.time()\n",
    "\n",
    "for n in randNumbers: putInInt(intHashmap, n)\n",
    "\n",
    "timeTaken = time.time() - start_time\n",
    "lastfaktor = 1 - (intHashmap.count(sllist()) / len(intHashmap))\n",
    "print(\"Egen hashmap med dobbel hashing:\")\n",
    "print(f\"{timeTaken = }\")\n",
    "print(f\"{collisions = }\")\n",
    "print(f\"{lastfaktor = }\")\n",
    "\n",
    "\n",
    "nativeHashmap = {}\n",
    "start_time = time.time()\n",
    "\n",
    "for n in randNumbers: putInNative(nativeHashmap, n)\n",
    "\n",
    "timeTaken = time.time() - start_time\n",
    "print(\"\\nNative hashmap i python:\")\n",
    "print(f\"{timeTaken = }\")"
   ]
  }
 ],
 "metadata": {
  "kernelspec": {
   "display_name": "Python 3",
   "language": "python",
   "name": "python3"
  },
  "language_info": {
   "codemirror_mode": {
    "name": "ipython",
    "version": 3
   },
   "file_extension": ".py",
   "mimetype": "text/x-python",
   "name": "python",
   "nbconvert_exporter": "python",
   "pygments_lexer": "ipython3",
   "version": "3.8.5"
  }
 },
 "nbformat": 4,
 "nbformat_minor": 4
}
