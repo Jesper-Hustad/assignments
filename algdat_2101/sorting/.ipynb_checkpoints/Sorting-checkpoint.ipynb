{
 "cells": [
  {
   "cell_type": "code",
   "execution_count": 2,
   "metadata": {},
   "outputs": [],
   "source": [
    "from IPython.display import HTML, display\n",
    "import tabulate\n",
    "from random import randrange\n",
    "import matplotlib.pyplot as plt\n",
    "import numpy as np\n",
    "import sys\n",
    "import time\n",
    "sys.setrecursionlimit(round(10**6))\n",
    "\n",
    "def setupPlot():\n",
    "    plt.minorticks_on()\n",
    "    plt.grid(b=True, which='both',color='#D3D3D3', linestyle='-', alpha=0.3)\n",
    "    plt.legend(loc=\"upper left\")\n",
    "    plt.ylabel('T(n)')\n",
    "    plt.xlabel('n')\n",
    "    \n",
    "def flushPrintLine():\n",
    "    print(f\"                                                                 \",end='\\r')"
   ]
  },
  {
   "cell_type": "markdown",
   "metadata": {},
   "source": [
    "## Single pivot quicksort"
   ]
  },
  {
   "cell_type": "code",
   "execution_count": 3,
   "metadata": {},
   "outputs": [],
   "source": [
    "def quicksort(arr):\n",
    "\n",
    "    length = len(arr)\n",
    "    \n",
    "    if length < 2: return arr\n",
    "    \n",
    "#   pick first element as pivot\n",
    "    pivot_position = 0\n",
    "    pivot = arr.pop(pivot_position)\n",
    "    \n",
    "    less_than_pivot = []\n",
    "    more_than_pivot = []\n",
    "    \n",
    "    for i in arr:\n",
    "        if i < pivot: less_than_pivot.append(i)\n",
    "        else:         more_than_pivot.append(i)\n",
    "            \n",
    "    return quicksort(less_than_pivot) + [pivot] + quicksort(more_than_pivot)"
   ]
  },
  {
   "cell_type": "markdown",
   "metadata": {},
   "source": [
    "## Dual pivot quicksort"
   ]
  },
  {
   "cell_type": "code",
   "execution_count": 4,
   "metadata": {},
   "outputs": [],
   "source": [
    "def dp_quicksort(arr):\n",
    "\n",
    "    length = len(arr)\n",
    "    \n",
    "    if length < 2: return arr\n",
    "\n",
    "    piv_a_pos = 0\n",
    "    piv_a = arr.pop(piv_a_pos)\n",
    "    \n",
    "    piv_b_pos = length-2\n",
    "    piv_b = arr.pop(piv_b_pos)\n",
    "\n",
    "#   swap values if pivot A is bigger than B\n",
    "    if piv_b < piv_a:\n",
    "        piv_a_pos, piv_b_pos = piv_b_pos, piv_a_pos\n",
    "        piv_a, piv_b = piv_b, piv_a\n",
    "    \n",
    "    less_than_piv = []\n",
    "    between_piv = []\n",
    "    more_than_piv = []\n",
    "    \n",
    "    for i in arr:\n",
    "        if piv_a < i < piv_b: between_piv.append(i)\n",
    "        elif piv_b <= i: more_than_piv.append(i)\n",
    "        else: less_than_piv.append(i)\n",
    "    \n",
    "    return dp_quicksort(less_than_piv) + [piv_a] + dp_quicksort(between_piv) + [piv_b] + dp_quicksort(more_than_piv)"
   ]
  },
  {
   "cell_type": "code",
   "execution_count": 5,
   "metadata": {},
   "outputs": [],
   "source": [
    "def simple_sort(arr):\n",
    "    if arr[0] <= arr[1]:\n",
    "        return arr\n",
    "    else: return [arr[1], arr[0]]"
   ]
  },
  {
   "cell_type": "markdown",
   "metadata": {},
   "source": [
    "## Tester"
   ]
  },
  {
   "cell_type": "code",
   "execution_count": 708,
   "metadata": {},
   "outputs": [],
   "source": [
    "def checksum(func, arr):\n",
    "    return sum(arr) == sum(func(arr))"
   ]
  },
  {
   "cell_type": "code",
   "execution_count": 709,
   "metadata": {},
   "outputs": [],
   "source": [
    "def checkorder(func, arr):\n",
    "    sort = func(arr)\n",
    "    for i in range(len(arr) - 1): \n",
    "        if sort[i+1] < sort[i]: \n",
    "            return False\n",
    "    \n",
    "    return True"
   ]
  },
  {
   "cell_type": "code",
   "execution_count": 706,
   "metadata": {},
   "outputs": [],
   "source": [
    "def test_function(name,func,list_gen_args,tests):\n",
    "    n = 10**2\n",
    "    \n",
    "    results = []\n",
    "    for test in tests:\n",
    "        for gen_args in list_gen_args:\n",
    "            args = gen_args(n)\n",
    "            passed = test(func, *args)\n",
    "            if not passed:\n",
    "                print(f\"❌ {name} failed\")\n",
    "                return\n",
    "            \n",
    "    print(f\"✅ {name} passed\")"
   ]
  },
  {
   "cell_type": "code",
   "execution_count": 714,
   "metadata": {},
   "outputs": [
    {
     "name": "stdout",
     "output_type": "stream",
     "text": [
      "✅ single pivot quicksort passed\n",
      "✅ dual pivot quicksort passed\n"
     ]
    }
   ],
   "source": [
    "tests = [checksum, checkorder]\n",
    "list_types = [random_list,duplicates_list,sorted_list]\n",
    "test_function(\"single pivot quicksort\",quicksort, list_types, tests)\n",
    "test_function(\"dual pivot quicksort\",dp_quicksort, list_types, tests)"
   ]
  },
  {
   "cell_type": "markdown",
   "metadata": {},
   "source": [
    "## time calc"
   ]
  },
  {
   "cell_type": "code",
   "execution_count": 6,
   "metadata": {},
   "outputs": [],
   "source": [
    "def take_time_of(function, args):\n",
    "    \n",
    "    start = time.time()\n",
    "    time_taken = 0\n",
    "    repeats=0\n",
    "    min_accuracy = 0.1\n",
    "    \n",
    "    while True:\n",
    "        function(*args)\n",
    "    \n",
    "        repeats = repeats + 1\n",
    "        time_taken = time.time() - start\n",
    "        if time_taken > min_accuracy: break\n",
    "    \n",
    "    return time_taken / repeats "
   ]
  },
  {
   "cell_type": "code",
   "execution_count": 7,
   "metadata": {},
   "outputs": [],
   "source": [
    "def take_time_of(function, args):\n",
    "    \n",
    "    start = time.time()\n",
    "    time_taken = 0\n",
    "    repeats=0\n",
    "    min_accuracy = 0.1\n",
    "    \n",
    "    while True:\n",
    "        function(*args)\n",
    "    \n",
    "        repeats = repeats + 1\n",
    "        time_taken = time.time() - start\n",
    "        if time_taken > min_accuracy: break\n",
    "    \n",
    "    return time_taken / repeats \n",
    "\n",
    "def compare(functions, names, gen_args, **kwargs):\n",
    "\n",
    "#   initialize vars\n",
    "    total_steps = kwargs.get('steps', 5)\n",
    "    scale = kwargs.get('scale', 3)\n",
    "    max_operations = round(10**scale)\n",
    "    step_length = max_operations / total_steps\n",
    "    operations = [round(s * step_length) for s in range(total_steps)]   \n",
    "    \n",
    "    results = []\n",
    "    colors = ['r','b','g','c','m','y']\n",
    " \n",
    "    \n",
    "#   going trough every function  \n",
    "    for i in range(len(functions)):\n",
    "        \n",
    "#       calculate times at different (n) complexities\n",
    "        data = []\n",
    "        for step in range(total_steps):\n",
    "            \n",
    "            n = operations[step]\n",
    "            arguments = gen_args(n)\n",
    "            function = functions[i]\n",
    "         \n",
    "            print(f\"Loading: {names[i]} | {step}/{total_steps} | n = {n}\",end='\\r')\n",
    "            \n",
    "            data.append( take_time_of(function, arguments) )\n",
    "            \n",
    "        plt.plot(operations, data, colors[i] + 'o--', label=names[i])\n",
    "        results.append(data)\n",
    "    \n",
    "#   remove loading text\n",
    "    flushPrintLine()\n",
    "    \n",
    "#   display plot\n",
    "    if 'title' in kwargs: plt.title(kwargs.get('title'))\n",
    "    setupPlot()\n",
    "    plt.show()\n",
    "    \n",
    "#   display table with data\n",
    "    headers = [\"Operations\", *names]\n",
    "    data = zip(operations, *results)\n",
    "    display(HTML(tabulate.tabulate(data, headers, tablefmt='html')))"
   ]
  },
  {
   "cell_type": "code",
   "execution_count": 8,
   "metadata": {},
   "outputs": [],
   "source": [
    "def test_time(operations, function, gen_args):\n",
    "    n = operations\n",
    "    arguments = gen_args(n)\n",
    "    return take_time_of(function, arguments)"
   ]
  },
  {
   "cell_type": "code",
   "execution_count": 9,
   "metadata": {},
   "outputs": [
    {
     "ename": "NameError",
     "evalue": "name 'duplicates_list' is not defined",
     "output_type": "error",
     "traceback": [
      "\u001b[1;31m---------------------------------------------------------------------------\u001b[0m",
      "\u001b[1;31mNameError\u001b[0m                                 Traceback (most recent call last)",
      "\u001b[1;32m<ipython-input-9-b9f939cf8a8f>\u001b[0m in \u001b[0;36m<module>\u001b[1;34m\u001b[0m\n\u001b[0;32m      1\u001b[0m \u001b[0mn\u001b[0m \u001b[1;33m=\u001b[0m \u001b[1;36m4900\u001b[0m\u001b[1;33m\u001b[0m\u001b[1;33m\u001b[0m\u001b[0m\n\u001b[0;32m      2\u001b[0m \u001b[1;33m\u001b[0m\u001b[0m\n\u001b[1;32m----> 3\u001b[1;33m \u001b[0marray_types\u001b[0m \u001b[1;33m=\u001b[0m \u001b[1;33m[\u001b[0m\u001b[0mrandom_list\u001b[0m\u001b[1;33m,\u001b[0m \u001b[0mduplicates_list\u001b[0m\u001b[1;33m,\u001b[0m \u001b[0msorted_list\u001b[0m\u001b[1;33m]\u001b[0m\u001b[1;33m\u001b[0m\u001b[1;33m\u001b[0m\u001b[0m\n\u001b[0m\u001b[0;32m      4\u001b[0m \u001b[0margs\u001b[0m \u001b[1;33m=\u001b[0m \u001b[1;33m[\u001b[0m\u001b[0marray_types\u001b[0m\u001b[1;33m[\u001b[0m\u001b[0mi\u001b[0m\u001b[1;33m]\u001b[0m\u001b[1;33m(\u001b[0m\u001b[0mn\u001b[0m\u001b[1;33m)\u001b[0m \u001b[1;32mfor\u001b[0m \u001b[0mi\u001b[0m \u001b[1;32min\u001b[0m \u001b[0mrange\u001b[0m\u001b[1;33m(\u001b[0m\u001b[0mlen\u001b[0m\u001b[1;33m(\u001b[0m\u001b[0marray_types\u001b[0m\u001b[1;33m)\u001b[0m\u001b[1;33m)\u001b[0m\u001b[1;33m]\u001b[0m\u001b[1;33m\u001b[0m\u001b[1;33m\u001b[0m\u001b[0m\n\u001b[0;32m      5\u001b[0m \u001b[1;33m\u001b[0m\u001b[0m\n",
      "\u001b[1;31mNameError\u001b[0m: name 'duplicates_list' is not defined"
     ]
    }
   ],
   "source": [
    "n = 4900\n",
    "\n",
    "array_types = [random_list, duplicates_list, sorted_list]\n",
    "args = [array_types[i](n) for i in range(len(array_types))]\n",
    "\n",
    "headers = [\"Array type\", \"Single pivot\", \"Dual pivot\"]\n",
    "arr_type = [\"Random\", \"Duplicates\", \"Sorted\"]\n",
    "single_piv = [ round(take_time_of(quicksort, a),4) for a in args ]\n",
    "dual_piv = [ round(take_time_of(dp_quicksort, a),4) for a in args ]\n",
    "\n",
    "display(HTML(tabulate.tabulate(zip(arr_type, single_piv, dual_piv), headers, tablefmt='html')))"
   ]
  },
  {
   "cell_type": "markdown",
   "metadata": {},
   "source": [
    "# Krav\n",
    "Et program som implementerer to varianter av quicksort (single-pivot og dualpivot), og tidsmålinger.  \n",
    "\n",
    "- Rapport med tidsmålinger som viser hvilken variant som er raskest for:  \n",
    "    – tabell med tilfeldige tall  \n",
    "    – tabell med mange duplikater  \n",
    "    – tabell som er sortert fra før  \n",
    "- I alle tilfellene må sorteringene bestå sjekksumtesten og rekkefølgetesten  \n"
   ]
  },
  {
   "cell_type": "markdown",
   "metadata": {},
   "source": [
    "# Tidsmålinger\n",
    "Med to varianter av quicksort (single-pivot og dualpivot)  \n",
    "I tabellen under er tidsmålingene"
   ]
  },
  {
   "cell_type": "markdown",
   "metadata": {},
   "source": [
    "## Tilfeldige tall"
   ]
  },
  {
   "cell_type": "code",
   "execution_count": 20,
   "metadata": {},
   "outputs": [
    {
     "name": "stdout",
     "output_type": "stream",
     "text": [
      "Loading: single pivot | 3/5 | n = 6000000\r"
     ]
    },
    {
     "ename": "MemoryError",
     "evalue": "",
     "output_type": "error",
     "traceback": [
      "\u001b[1;31m---------------------------------------------------------------------------\u001b[0m",
      "\u001b[1;31mMemoryError\u001b[0m                               Traceback (most recent call last)",
      "\u001b[1;32m<ipython-input-20-9f3abd7a4439>\u001b[0m in \u001b[0;36m<module>\u001b[1;34m\u001b[0m\n\u001b[0;32m      3\u001b[0m \u001b[1;33m\u001b[0m\u001b[0m\n\u001b[0;32m      4\u001b[0m \u001b[1;33m\u001b[0m\u001b[0m\n\u001b[1;32m----> 5\u001b[1;33m compare([quicksort,dp_quicksort],\n\u001b[0m\u001b[0;32m      6\u001b[0m         \u001b[1;33m[\u001b[0m\u001b[1;34m\"single pivot\"\u001b[0m\u001b[1;33m,\u001b[0m\u001b[1;34m\"dual pivot\"\u001b[0m\u001b[1;33m]\u001b[0m\u001b[1;33m,\u001b[0m\u001b[1;33m\u001b[0m\u001b[1;33m\u001b[0m\u001b[0m\n\u001b[0;32m      7\u001b[0m         \u001b[0mrandom_list\u001b[0m\u001b[1;33m,\u001b[0m\u001b[1;33m\u001b[0m\u001b[1;33m\u001b[0m\u001b[0m\n",
      "\u001b[1;32m<ipython-input-7-c1cfa7dc7f93>\u001b[0m in \u001b[0;36mcompare\u001b[1;34m(functions, names, gen_args, **kwargs)\u001b[0m\n\u001b[0;32m     41\u001b[0m             \u001b[0mprint\u001b[0m\u001b[1;33m(\u001b[0m\u001b[1;34mf\"Loading: {names[i]} | {step}/{total_steps} | n = {n}\"\u001b[0m\u001b[1;33m,\u001b[0m\u001b[0mend\u001b[0m\u001b[1;33m=\u001b[0m\u001b[1;34m'\\r'\u001b[0m\u001b[1;33m)\u001b[0m\u001b[1;33m\u001b[0m\u001b[1;33m\u001b[0m\u001b[0m\n\u001b[0;32m     42\u001b[0m \u001b[1;33m\u001b[0m\u001b[0m\n\u001b[1;32m---> 43\u001b[1;33m             \u001b[0mdata\u001b[0m\u001b[1;33m.\u001b[0m\u001b[0mappend\u001b[0m\u001b[1;33m(\u001b[0m \u001b[0mtake_time_of\u001b[0m\u001b[1;33m(\u001b[0m\u001b[0mfunction\u001b[0m\u001b[1;33m,\u001b[0m \u001b[0marguments\u001b[0m\u001b[1;33m)\u001b[0m \u001b[1;33m)\u001b[0m\u001b[1;33m\u001b[0m\u001b[1;33m\u001b[0m\u001b[0m\n\u001b[0m\u001b[0;32m     44\u001b[0m \u001b[1;33m\u001b[0m\u001b[0m\n\u001b[0;32m     45\u001b[0m         \u001b[0mplt\u001b[0m\u001b[1;33m.\u001b[0m\u001b[0mplot\u001b[0m\u001b[1;33m(\u001b[0m\u001b[0moperations\u001b[0m\u001b[1;33m,\u001b[0m \u001b[0mdata\u001b[0m\u001b[1;33m,\u001b[0m \u001b[0mcolors\u001b[0m\u001b[1;33m[\u001b[0m\u001b[0mi\u001b[0m\u001b[1;33m]\u001b[0m \u001b[1;33m+\u001b[0m \u001b[1;34m'o--'\u001b[0m\u001b[1;33m,\u001b[0m \u001b[0mlabel\u001b[0m\u001b[1;33m=\u001b[0m\u001b[0mnames\u001b[0m\u001b[1;33m[\u001b[0m\u001b[0mi\u001b[0m\u001b[1;33m]\u001b[0m\u001b[1;33m)\u001b[0m\u001b[1;33m\u001b[0m\u001b[1;33m\u001b[0m\u001b[0m\n",
      "\u001b[1;32m<ipython-input-7-c1cfa7dc7f93>\u001b[0m in \u001b[0;36mtake_time_of\u001b[1;34m(function, args)\u001b[0m\n\u001b[0;32m      7\u001b[0m \u001b[1;33m\u001b[0m\u001b[0m\n\u001b[0;32m      8\u001b[0m     \u001b[1;32mwhile\u001b[0m \u001b[1;32mTrue\u001b[0m\u001b[1;33m:\u001b[0m\u001b[1;33m\u001b[0m\u001b[1;33m\u001b[0m\u001b[0m\n\u001b[1;32m----> 9\u001b[1;33m         \u001b[0mfunction\u001b[0m\u001b[1;33m(\u001b[0m\u001b[1;33m*\u001b[0m\u001b[0margs\u001b[0m\u001b[1;33m)\u001b[0m\u001b[1;33m\u001b[0m\u001b[1;33m\u001b[0m\u001b[0m\n\u001b[0m\u001b[0;32m     10\u001b[0m \u001b[1;33m\u001b[0m\u001b[0m\n\u001b[0;32m     11\u001b[0m         \u001b[0mrepeats\u001b[0m \u001b[1;33m=\u001b[0m \u001b[0mrepeats\u001b[0m \u001b[1;33m+\u001b[0m \u001b[1;36m1\u001b[0m\u001b[1;33m\u001b[0m\u001b[1;33m\u001b[0m\u001b[0m\n",
      "\u001b[1;32m<ipython-input-3-e156b0e3f71e>\u001b[0m in \u001b[0;36mquicksort\u001b[1;34m(arr)\u001b[0m\n\u001b[0;32m     16\u001b[0m         \u001b[1;32melse\u001b[0m\u001b[1;33m:\u001b[0m         \u001b[0mmore_than_pivot\u001b[0m\u001b[1;33m.\u001b[0m\u001b[0mappend\u001b[0m\u001b[1;33m(\u001b[0m\u001b[0mi\u001b[0m\u001b[1;33m)\u001b[0m\u001b[1;33m\u001b[0m\u001b[1;33m\u001b[0m\u001b[0m\n\u001b[0;32m     17\u001b[0m \u001b[1;33m\u001b[0m\u001b[0m\n\u001b[1;32m---> 18\u001b[1;33m     \u001b[1;32mreturn\u001b[0m \u001b[0mquicksort\u001b[0m\u001b[1;33m(\u001b[0m\u001b[0mless_than_pivot\u001b[0m\u001b[1;33m)\u001b[0m \u001b[1;33m+\u001b[0m \u001b[1;33m[\u001b[0m\u001b[0mpivot\u001b[0m\u001b[1;33m]\u001b[0m \u001b[1;33m+\u001b[0m \u001b[0mquicksort\u001b[0m\u001b[1;33m(\u001b[0m\u001b[0mmore_than_pivot\u001b[0m\u001b[1;33m)\u001b[0m\u001b[1;33m\u001b[0m\u001b[1;33m\u001b[0m\u001b[0m\n\u001b[0m",
      "\u001b[1;32m<ipython-input-3-e156b0e3f71e>\u001b[0m in \u001b[0;36mquicksort\u001b[1;34m(arr)\u001b[0m\n\u001b[0;32m     16\u001b[0m         \u001b[1;32melse\u001b[0m\u001b[1;33m:\u001b[0m         \u001b[0mmore_than_pivot\u001b[0m\u001b[1;33m.\u001b[0m\u001b[0mappend\u001b[0m\u001b[1;33m(\u001b[0m\u001b[0mi\u001b[0m\u001b[1;33m)\u001b[0m\u001b[1;33m\u001b[0m\u001b[1;33m\u001b[0m\u001b[0m\n\u001b[0;32m     17\u001b[0m \u001b[1;33m\u001b[0m\u001b[0m\n\u001b[1;32m---> 18\u001b[1;33m     \u001b[1;32mreturn\u001b[0m \u001b[0mquicksort\u001b[0m\u001b[1;33m(\u001b[0m\u001b[0mless_than_pivot\u001b[0m\u001b[1;33m)\u001b[0m \u001b[1;33m+\u001b[0m \u001b[1;33m[\u001b[0m\u001b[0mpivot\u001b[0m\u001b[1;33m]\u001b[0m \u001b[1;33m+\u001b[0m \u001b[0mquicksort\u001b[0m\u001b[1;33m(\u001b[0m\u001b[0mmore_than_pivot\u001b[0m\u001b[1;33m)\u001b[0m\u001b[1;33m\u001b[0m\u001b[1;33m\u001b[0m\u001b[0m\n\u001b[0m",
      "\u001b[1;32m<ipython-input-3-e156b0e3f71e>\u001b[0m in \u001b[0;36mquicksort\u001b[1;34m(arr)\u001b[0m\n\u001b[0;32m     16\u001b[0m         \u001b[1;32melse\u001b[0m\u001b[1;33m:\u001b[0m         \u001b[0mmore_than_pivot\u001b[0m\u001b[1;33m.\u001b[0m\u001b[0mappend\u001b[0m\u001b[1;33m(\u001b[0m\u001b[0mi\u001b[0m\u001b[1;33m)\u001b[0m\u001b[1;33m\u001b[0m\u001b[1;33m\u001b[0m\u001b[0m\n\u001b[0;32m     17\u001b[0m \u001b[1;33m\u001b[0m\u001b[0m\n\u001b[1;32m---> 18\u001b[1;33m     \u001b[1;32mreturn\u001b[0m \u001b[0mquicksort\u001b[0m\u001b[1;33m(\u001b[0m\u001b[0mless_than_pivot\u001b[0m\u001b[1;33m)\u001b[0m \u001b[1;33m+\u001b[0m \u001b[1;33m[\u001b[0m\u001b[0mpivot\u001b[0m\u001b[1;33m]\u001b[0m \u001b[1;33m+\u001b[0m \u001b[0mquicksort\u001b[0m\u001b[1;33m(\u001b[0m\u001b[0mmore_than_pivot\u001b[0m\u001b[1;33m)\u001b[0m\u001b[1;33m\u001b[0m\u001b[1;33m\u001b[0m\u001b[0m\n\u001b[0m",
      "\u001b[1;31mMemoryError\u001b[0m: "
     ]
    }
   ],
   "source": [
    "def random_list(n):\n",
    "    return [[round(randrange(n)) for i in range(n)]]\n",
    "\n",
    "\n",
    "compare([quicksort,dp_quicksort],\n",
    "        [\"single pivot\",\"dual pivot\"],\n",
    "        random_list,\n",
    "        scale= 7, steps= 5, title=\"Random\\n Array performance Comparison\")"
   ]
  },
  {
   "cell_type": "code",
   "execution_count": 726,
   "metadata": {},
   "outputs": [
    {
     "name": "stdout",
     "output_type": "stream",
     "text": [
      "                                                                 \r"
     ]
    },
    {
     "data": {
      "image/png": "[encoded data removed]",
      "text/plain": [
       "<Figure size 432x288 with 1 Axes>"
      ]
     },
     "metadata": {
      "needs_background": "light"
     },
     "output_type": "display_data"
    },
    {
     "data": {
      "text/html": [
       "<table>\n",
       "<thead>\n",
       "<tr><th style=\"text-align: right;\">  Operations</th><th style=\"text-align: right;\">  single pivot</th><th style=\"text-align: right;\">  dual pivot</th></tr>\n",
       "</thead>\n",
       "<tbody>\n",
       "<tr><td style=\"text-align: right;\">           0</td><td style=\"text-align: right;\">   4.94015e-07</td><td style=\"text-align: right;\"> 5.78022e-07</td></tr>\n",
       "<tr><td style=\"text-align: right;\">        1262</td><td style=\"text-align: right;\">   0.101728   </td><td style=\"text-align: right;\"> 0.0735047  </td></tr>\n",
       "<tr><td style=\"text-align: right;\">        2524</td><td style=\"text-align: right;\">   0.423386   </td><td style=\"text-align: right;\"> 0.299416   </td></tr>\n",
       "<tr><td style=\"text-align: right;\">        3786</td><td style=\"text-align: right;\">   1.02522    </td><td style=\"text-align: right;\"> 0.656284   </td></tr>\n",
       "<tr><td style=\"text-align: right;\">        5048</td><td style=\"text-align: right;\">   2.11876    </td><td style=\"text-align: right;\"> 1.18138    </td></tr>\n",
       "</tbody>\n",
       "</table>"
      ],
      "text/plain": [
       "<IPython.core.display.HTML object>"
      ]
     },
     "metadata": {},
     "output_type": "display_data"
    }
   ],
   "source": [
    "def sorted_list(n):\n",
    "    return [list(range(n))]\n",
    "\n",
    "compare([quicksort,dp_quicksort],\n",
    "        [\"single pivot\",\"dual pivot\"],\n",
    "        sorted_list,\n",
    "        scale=3.8, steps = 5, title=\"Pre-sorted\\n Array performance Comparison\")"
   ]
  },
  {
   "cell_type": "code",
   "execution_count": 719,
   "metadata": {},
   "outputs": [
    {
     "name": "stdout",
     "output_type": "stream",
     "text": [
      "                                                                 \r"
     ]
    },
    {
     "data": {
      "image/png": "[encoded data removed]",
      "text/plain": [
       "<Figure size 432x288 with 1 Axes>"
      ]
     },
     "metadata": {
      "needs_background": "light"
     },
     "output_type": "display_data"
    },
    {
     "data": {
      "text/html": [
       "<table>\n",
       "<thead>\n",
       "<tr><th style=\"text-align: right;\">  Operations</th><th style=\"text-align: right;\">  single pivot</th><th style=\"text-align: right;\">  dual pivot</th></tr>\n",
       "</thead>\n",
       "<tbody>\n",
       "<tr><td style=\"text-align: right;\">           0</td><td style=\"text-align: right;\">   5.13028e-07</td><td style=\"text-align: right;\"> 4.95648e-07</td></tr>\n",
       "<tr><td style=\"text-align: right;\">        3170</td><td style=\"text-align: right;\">   0.612853   </td><td style=\"text-align: right;\"> 0.219412   </td></tr>\n",
       "<tr><td style=\"text-align: right;\">        6340</td><td style=\"text-align: right;\">   1.29404    </td><td style=\"text-align: right;\"> 0.853005   </td></tr>\n",
       "<tr><td style=\"text-align: right;\">        9509</td><td style=\"text-align: right;\">   3.00309    </td><td style=\"text-align: right;\"> 1.8997     </td></tr>\n",
       "<tr><td style=\"text-align: right;\">       12679</td><td style=\"text-align: right;\">   5.79505    </td><td style=\"text-align: right;\"> 3.6333     </td></tr>\n",
       "</tbody>\n",
       "</table>"
      ],
      "text/plain": [
       "<IPython.core.display.HTML object>"
      ]
     },
     "metadata": {},
     "output_type": "display_data"
    }
   ],
   "source": [
    "def duplicates_list(n):\n",
    "    return [[ i if i%2 == 0 else 13 for i in range(n)]]\n",
    "\n",
    "compare([quicksort,dp_quicksort],\n",
    "        [\"single pivot\",\"dual pivot\"],\n",
    "        duplicates_list,\n",
    "        scale=4.2, title=\"Many Duplicates\\n Array performance Comparison\")"
   ]
  }
 ],
 "metadata": {
  "kernelspec": {
   "display_name": "Python 3",
   "language": "python",
   "name": "python3"
  },
  "language_info": {
   "codemirror_mode": {
    "name": "ipython",
    "version": 3
   },
   "file_extension": ".py",
   "mimetype": "text/x-python",
   "name": "python",
   "nbconvert_exporter": "python",
   "pygments_lexer": "ipython3",
   "version": "3.8.5"
  }
 },
 "nbformat": 4,
 "nbformat_minor": 4
}
