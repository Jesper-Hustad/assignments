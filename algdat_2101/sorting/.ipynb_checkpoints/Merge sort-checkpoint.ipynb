{
 "cells": [
  {
   "cell_type": "code",
   "execution_count": 216,
   "metadata": {},
   "outputs": [],
   "source": [
    "nums = [9,0,4,7,1,5,3,2]"
   ]
  },
  {
   "cell_type": "code",
   "execution_count": 156,
   "metadata": {},
   "outputs": [],
   "source": [
    "a = [0,4,7]"
   ]
  },
  {
   "cell_type": "code",
   "execution_count": 157,
   "metadata": {},
   "outputs": [],
   "source": [
    "b = [2,3,6]"
   ]
  },
  {
   "cell_type": "code",
   "execution_count": 194,
   "metadata": {},
   "outputs": [],
   "source": [
    "def replaceArr(orig,arr,start):\n",
    "    replaced = orig\n",
    "    for i in range(len(orig)):\n",
    "        if start <= i < start + len(arr):\n",
    "            replaced[i] = arr[i-start]\n",
    "            \n",
    "    return replaced\n",
    "            "
   ]
  },
  {
   "cell_type": "code",
   "execution_count": 209,
   "metadata": {},
   "outputs": [],
   "source": [
    "def mergeSort(arr,pos):\n",
    "    if len(arr) == 1: \n",
    "        return arr\n",
    "    \n",
    "    print(pos)\n",
    "    \n",
    "    half = round(len(arr))\n",
    "    a = arr[:half//2]\n",
    "    b = arr[half//2:]\n",
    "#     print(f\"{a}-{b}\")\n",
    "    x = mergeSort(a,pos)\n",
    "    y = mergeSort(b,pos+half)\n",
    "    m = merge(x,y)\n",
    "    \n",
    "\n",
    "    return m\n",
    "    "
   ]
  },
  {
   "cell_type": "code",
   "execution_count": 210,
   "metadata": {},
   "outputs": [],
   "source": [
    "def merge(arr1,arr2):\n",
    "    i = 0\n",
    "    j = 0\n",
    "    merged = []\n",
    "    while i < len(arr1) and  j < len(arr2):\n",
    "        if arr1[i] < arr2[j]:\n",
    "            merged.append(arr1[i])\n",
    "            i += 1\n",
    "        else:\n",
    "            merged.append(arr2[j])\n",
    "            j += 1\n",
    "            \n",
    "    if i < j:\n",
    "        merged.append(arr1[i])\n",
    "    else:\n",
    "        merged.append(arr2[j])\n",
    "        \n",
    "    return merged"
   ]
  },
  {
   "cell_type": "code",
   "execution_count": 217,
   "metadata": {},
   "outputs": [
    {
     "name": "stdout",
     "output_type": "stream",
     "text": [
      "[9, 0, 4, 7, 1, 5, 3, 2]\n",
      "[0, 9, 4, 7, 1, 5, 3, 2]\n",
      "[0, 9, 4, 7, 4, 7, 3, 2]\n",
      "[0, 4, 7, 9, 4, 7, 3, 2]\n",
      "[0, 4, 7, 9, 4, 7, 3, 2]\n",
      "[0, 4, 7, 9, 4, 7, 3, 2]\n",
      "[0, 4, 7, 9, 4, 7, 3, 2]\n",
      "[0, 1, 2, 3, 4, 5, 7, 2]\n"
     ]
    },
    {
     "data": {
      "text/plain": [
       "[0, 1, 2, 3, 4, 5, 7]"
      ]
     },
     "execution_count": 217,
     "metadata": {},
     "output_type": "execute_result"
    }
   ],
   "source": [
    "# print(nums,0)\n",
    "disp = nums\n",
    "print(disp)\n",
    "mergeSort(nums,0)"
   ]
  },
  {
   "cell_type": "code",
   "execution_count": null,
   "metadata": {},
   "outputs": [],
   "source": []
  },
  {
   "cell_type": "code",
   "execution_count": null,
   "metadata": {},
   "outputs": [],
   "source": []
  },
  {
   "cell_type": "code",
   "execution_count": null,
   "metadata": {},
   "outputs": [],
   "source": []
  }
 ],
 "metadata": {
  "kernelspec": {
   "display_name": "Python 3",
   "language": "python",
   "name": "python3"
  },
  "language_info": {
   "codemirror_mode": {
    "name": "ipython",
    "version": 3
   },
   "file_extension": ".py",
   "mimetype": "text/x-python",
   "name": "python",
   "nbconvert_exporter": "python",
   "pygments_lexer": "ipython3",
   "version": "3.8.5"
  }
 },
 "nbformat": 4,
 "nbformat_minor": 4
}
