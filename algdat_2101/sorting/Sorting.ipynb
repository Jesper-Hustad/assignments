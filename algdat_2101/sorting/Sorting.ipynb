{
 "cells": [
  {
   "cell_type": "code",
   "execution_count": 11,
   "metadata": {},
   "outputs": [],
   "source": [
    "from IPython.display import HTML, display\n",
    "import tabulate\n",
    "from random import randrange\n",
    "import matplotlib.pyplot as plt\n",
    "import numpy as np\n",
    "import sys\n",
    "import time\n",
    "sys.setrecursionlimit(round(10**6))\n",
    "\n",
    "def setupPlot():\n",
    "    plt.minorticks_on()\n",
    "    plt.grid(b=True, which='both',color='#D3D3D3', linestyle='-', alpha=0.3)\n",
    "    plt.legend(loc=\"upper left\")\n",
    "    plt.ylabel('T(n)')\n",
    "    plt.xlabel('n')\n",
    "    \n",
    "def flushPrintLine():\n",
    "    print(f\"                                                                 \",end='\\r')"
   ]
  },
  {
   "cell_type": "markdown",
   "metadata": {},
   "source": [
    "## Kode for tidsmålinger"
   ]
  },
  {
   "cell_type": "code",
   "execution_count": 16,
   "metadata": {},
   "outputs": [],
   "source": [
    "def take_time_of(function, args):\n",
    "    \n",
    "    start = time.time()\n",
    "    time_taken = 0\n",
    "    repeats=0\n",
    "    min_accuracy = 0.1\n",
    "    \n",
    "    while True:\n",
    "        function(*args)\n",
    "    \n",
    "        repeats = repeats + 1\n",
    "        time_taken = time.time() - start\n",
    "        if time_taken > min_accuracy: break\n",
    "    \n",
    "    return time_taken / repeats "
   ]
  },
  {
   "cell_type": "code",
   "execution_count": 17,
   "metadata": {},
   "outputs": [],
   "source": [
    "def compare(functions, names, gen_args, **kwargs):\n",
    "\n",
    "#   initialize vars\n",
    "    total_steps = kwargs.get('steps', 5)\n",
    "    scale = kwargs.get('scale', 3)\n",
    "    max_operations = round(10**scale)\n",
    "    step_length = max_operations / total_steps\n",
    "    operations = [round(s * step_length) for s in range(total_steps)]   \n",
    "    \n",
    "    results = []\n",
    "    colors = ['r','b','g','c','m','y']\n",
    " \n",
    "    \n",
    "#   going trough every function  \n",
    "    for i in range(len(functions)):\n",
    "        \n",
    "#       calculate times at different (n) complexities\n",
    "        data = []\n",
    "        for step in range(total_steps):\n",
    "            \n",
    "            n = operations[step]\n",
    "            arguments = gen_args(n)\n",
    "            function = functions[i]\n",
    "         \n",
    "            print(f\"Loading: {names[i]} | {step}/{total_steps} | n = {n}\",end='\\r')\n",
    "            \n",
    "            data.append( take_time_of(function, arguments) )\n",
    "            \n",
    "        plt.plot(operations, data, colors[i] + 'o--', label=names[i])\n",
    "        results.append(data)\n",
    "    \n",
    "#   remove loading text\n",
    "    flushPrintLine()\n",
    "    \n",
    "#   display plot\n",
    "    if 'title' in kwargs: plt.title(kwargs.get('title'))\n",
    "    setupPlot()\n",
    "    plt.show()\n",
    "    \n",
    "#   display table with data\n",
    "    headers = [\"Operations\", *names]\n",
    "    data = zip(operations, *results)\n",
    "    display(HTML(tabulate.tabulate(data, headers, tablefmt='html')))"
   ]
  },
  {
   "cell_type": "markdown",
   "metadata": {},
   "source": [
    "## Single pivot quicksort"
   ]
  },
  {
   "cell_type": "code",
   "execution_count": 12,
   "metadata": {},
   "outputs": [],
   "source": [
    "def quicksort(arr):\n",
    "\n",
    "    length = len(arr)\n",
    "    \n",
    "    if length < 2: return arr\n",
    "    \n",
    "#   pick first element as pivot\n",
    "    pivot_position = 0\n",
    "    pivot = arr.pop(pivot_position)\n",
    "    \n",
    "    less_than_pivot = []\n",
    "    more_than_pivot = []\n",
    "    \n",
    "    for i in arr:\n",
    "        if i < pivot: less_than_pivot.append(i)\n",
    "        else:         more_than_pivot.append(i)\n",
    "            \n",
    "    return quicksort(less_than_pivot) + [pivot] + quicksort(more_than_pivot)"
   ]
  },
  {
   "cell_type": "markdown",
   "metadata": {},
   "source": [
    "## Dual pivot quicksort"
   ]
  },
  {
   "cell_type": "code",
   "execution_count": 13,
   "metadata": {},
   "outputs": [],
   "source": [
    "def dp_quicksort(arr):\n",
    "\n",
    "    length = len(arr)\n",
    "    \n",
    "    if length < 2: return arr\n",
    "\n",
    "    piv_a_pos = 0\n",
    "    piv_a = arr.pop(piv_a_pos)\n",
    "    \n",
    "    piv_b_pos = length-2\n",
    "    piv_b = arr.pop(piv_b_pos)\n",
    "\n",
    "#   swap values if pivot A is bigger than B\n",
    "    if piv_b < piv_a:\n",
    "        piv_a_pos, piv_b_pos = piv_b_pos, piv_a_pos\n",
    "        piv_a, piv_b = piv_b, piv_a\n",
    "    \n",
    "    less_than_piv = []\n",
    "    between_piv = []\n",
    "    more_than_piv = []\n",
    "    \n",
    "    for i in arr:\n",
    "        if piv_a < i < piv_b: between_piv.append(i)\n",
    "        elif piv_b <= i: more_than_piv.append(i)\n",
    "        else: less_than_piv.append(i)\n",
    "    \n",
    "    return dp_quicksort(less_than_piv) + [piv_a] + dp_quicksort(between_piv) + [piv_b] + dp_quicksort(more_than_piv)"
   ]
  },
  {
   "cell_type": "markdown",
   "metadata": {},
   "source": [
    "# Tidsmålinger\n",
    "I dette arbeidskravet er to varianter av quicksort (single-pivot og dualpivot) sammenlignet med forskjellige type arrays"
   ]
  },
  {
   "cell_type": "markdown",
   "metadata": {},
   "source": [
    "## Tilfeldige Tall Array Tidsmålinger"
   ]
  },
  {
   "cell_type": "code",
   "execution_count": 19,
   "metadata": {},
   "outputs": [
    {
     "name": "stdout",
     "output_type": "stream",
     "text": [
      "                                                                 \r"
     ]
    },
    {
     "data": {
      "image/png": "[encoded data removed]",
      "text/plain": [
       "<Figure size 432x288 with 1 Axes>"
      ]
     },
     "metadata": {
      "needs_background": "light"
     },
     "output_type": "display_data"
    },
    {
     "data": {
      "text/html": [
       "<table>\n",
       "<thead>\n",
       "<tr><th style=\"text-align: right;\">  Operations</th><th style=\"text-align: right;\">  single pivot</th><th style=\"text-align: right;\">  dual pivot</th></tr>\n",
       "</thead>\n",
       "<tbody>\n",
       "<tr><td style=\"text-align: right;\">           0</td><td style=\"text-align: right;\">   3.68385e-07</td><td style=\"text-align: right;\"> 3.58135e-07</td></tr>\n",
       "<tr><td style=\"text-align: right;\">     2000000</td><td style=\"text-align: right;\">   7.62111    </td><td style=\"text-align: right;\"> 7.2234     </td></tr>\n",
       "<tr><td style=\"text-align: right;\">     4000000</td><td style=\"text-align: right;\">  16.6317     </td><td style=\"text-align: right;\">14.757      </td></tr>\n",
       "<tr><td style=\"text-align: right;\">     6000000</td><td style=\"text-align: right;\">  27.4592     </td><td style=\"text-align: right;\">23.9164     </td></tr>\n",
       "<tr><td style=\"text-align: right;\">     8000000</td><td style=\"text-align: right;\">  37.6559     </td><td style=\"text-align: right;\">32.7421     </td></tr>\n",
       "</tbody>\n",
       "</table>"
      ],
      "text/plain": [
       "<IPython.core.display.HTML object>"
      ]
     },
     "metadata": {},
     "output_type": "display_data"
    }
   ],
   "source": [
    "def random_list(n):\n",
    "    return [[round(randrange(n)) for i in range(n)]]\n",
    "\n",
    "\n",
    "compare([quicksort,dp_quicksort],\n",
    "        [\"single pivot\",\"dual pivot\"],\n",
    "        random_list,\n",
    "        scale= 7, steps= 5, title=\"Random\\n Array performance Comparison\")"
   ]
  },
  {
   "cell_type": "markdown",
   "metadata": {},
   "source": [
    "## Mange duplikater Array Tidsmålinger"
   ]
  },
  {
   "cell_type": "code",
   "execution_count": 25,
   "metadata": {},
   "outputs": [
    {
     "name": "stdout",
     "output_type": "stream",
     "text": [
      "                                                                 \r"
     ]
    },
    {
     "data": {
      "image/png": "[encoded data removed]",
      "text/plain": [
       "<Figure size 432x288 with 1 Axes>"
      ]
     },
     "metadata": {
      "needs_background": "light"
     },
     "output_type": "display_data"
    },
    {
     "data": {
      "text/html": [
       "<table>\n",
       "<thead>\n",
       "<tr><th style=\"text-align: right;\">  Operations</th><th style=\"text-align: right;\">  single pivot</th><th style=\"text-align: right;\">  dual pivot</th></tr>\n",
       "</thead>\n",
       "<tbody>\n",
       "<tr><td style=\"text-align: right;\">           0</td><td style=\"text-align: right;\">   3.81465e-07</td><td style=\"text-align: right;\">  3.6598e-07</td></tr>\n",
       "<tr><td style=\"text-align: right;\">        3170</td><td style=\"text-align: right;\">   0.399263   </td><td style=\"text-align: right;\">  0.15655   </td></tr>\n",
       "<tr><td style=\"text-align: right;\">        6340</td><td style=\"text-align: right;\">   0.965075   </td><td style=\"text-align: right;\">  0.621708  </td></tr>\n",
       "<tr><td style=\"text-align: right;\">        9509</td><td style=\"text-align: right;\">   2.17623    </td><td style=\"text-align: right;\">  1.38529   </td></tr>\n",
       "<tr><td style=\"text-align: right;\">       12679</td><td style=\"text-align: right;\">   4.04582    </td><td style=\"text-align: right;\">  2.6787    </td></tr>\n",
       "</tbody>\n",
       "</table>"
      ],
      "text/plain": [
       "<IPython.core.display.HTML object>"
      ]
     },
     "metadata": {},
     "output_type": "display_data"
    }
   ],
   "source": [
    "def duplicates_list(n):\n",
    "    return [[ i if i%2 == 0 else 13 for i in range(n)]]\n",
    "\n",
    "compare([quicksort,dp_quicksort],\n",
    "        [\"single pivot\",\"dual pivot\"],\n",
    "        duplicates_list,\n",
    "        scale=4.2, title=\"Many Duplicates\\n Array performance Comparison\")"
   ]
  },
  {
   "cell_type": "markdown",
   "metadata": {},
   "source": [
    "## Forhåndssortert Array Tidsmålinger"
   ]
  },
  {
   "cell_type": "code",
   "execution_count": 29,
   "metadata": {},
   "outputs": [
    {
     "name": "stdout",
     "output_type": "stream",
     "text": [
      "                                                                 \r"
     ]
    },
    {
     "data": {
      "image/png": "[encoded data removed]",
      "text/plain": [
       "<Figure size 432x288 with 1 Axes>"
      ]
     },
     "metadata": {
      "needs_background": "light"
     },
     "output_type": "display_data"
    },
    {
     "data": {
      "text/html": [
       "<table>\n",
       "<thead>\n",
       "<tr><th style=\"text-align: right;\">  Operations</th><th style=\"text-align: right;\">  single pivot</th><th style=\"text-align: right;\">  dual pivot</th></tr>\n",
       "</thead>\n",
       "<tbody>\n",
       "<tr><td style=\"text-align: right;\">           0</td><td style=\"text-align: right;\">   3.75436e-07</td><td style=\"text-align: right;\"> 3.72501e-07</td></tr>\n",
       "<tr><td style=\"text-align: right;\">        1262</td><td style=\"text-align: right;\">   0.0782903  </td><td style=\"text-align: right;\"> 0.0495447  </td></tr>\n",
       "<tr><td style=\"text-align: right;\">        2524</td><td style=\"text-align: right;\">   0.311315   </td><td style=\"text-align: right;\"> 0.202458   </td></tr>\n",
       "<tr><td style=\"text-align: right;\">        3786</td><td style=\"text-align: right;\">   0.703709   </td><td style=\"text-align: right;\"> 0.451234   </td></tr>\n",
       "<tr><td style=\"text-align: right;\">        5048</td><td style=\"text-align: right;\">   1.46812    </td><td style=\"text-align: right;\"> 0.792434   </td></tr>\n",
       "</tbody>\n",
       "</table>"
      ],
      "text/plain": [
       "<IPython.core.display.HTML object>"
      ]
     },
     "metadata": {},
     "output_type": "display_data"
    }
   ],
   "source": [
    "def sorted_list(n):\n",
    "    return [list(range(n))]\n",
    "\n",
    "compare([quicksort,dp_quicksort],\n",
    "        [\"single pivot\",\"dual pivot\"],\n",
    "        sorted_list,\n",
    "        scale=3.8, steps = 5, title=\"Pre-sorted\\n Array performance Comparison\")"
   ]
  },
  {
   "cell_type": "markdown",
   "metadata": {},
   "source": [
    "## Tidsmålinger Sammenlignet"
   ]
  },
  {
   "cell_type": "code",
   "execution_count": 34,
   "metadata": {},
   "outputs": [
    {
     "data": {
      "text/html": [
       "<table>\n",
       "<thead>\n",
       "<tr><th>Array type  </th><th style=\"text-align: right;\">  Single pivot</th><th style=\"text-align: right;\">  Dual pivot</th></tr>\n",
       "</thead>\n",
       "<tbody>\n",
       "<tr><td>Random      </td><td style=\"text-align: right;\">        0.0096</td><td style=\"text-align: right;\">      0.0081</td></tr>\n",
       "<tr><td>Duplicates  </td><td style=\"text-align: right;\">        0.6031</td><td style=\"text-align: right;\">      0.383 </td></tr>\n",
       "<tr><td>Sorted      </td><td style=\"text-align: right;\">        1.2109</td><td style=\"text-align: right;\">      0.7742</td></tr>\n",
       "</tbody>\n",
       "</table>"
      ],
      "text/plain": [
       "<IPython.core.display.HTML object>"
      ]
     },
     "metadata": {},
     "output_type": "display_data"
    }
   ],
   "source": [
    "n = 5000\n",
    "\n",
    "array_types = [random_list, duplicates_list, sorted_list]\n",
    "args = [array_types[i](n) for i in range(len(array_types))]\n",
    "\n",
    "headers = [\"Array type\", \"Single pivot\", \"Dual pivot\"]\n",
    "arr_type = [\"Random\", \"Duplicates\", \"Sorted\"]\n",
    "single_piv = [ round(take_time_of(quicksort, a),4) for a in args ]\n",
    "dual_piv = [ round(take_time_of(dp_quicksort, a),4) for a in args ]\n",
    "\n",
    "display(HTML(tabulate.tabulate(zip(arr_type, single_piv, dual_piv), headers, tablefmt='html')))"
   ]
  },
  {
   "cell_type": "markdown",
   "metadata": {},
   "source": [
    "## Konklusjoner\n",
    "Som forventet er min enkle quicksort algoritme ikke optimalisert og har derfor værre ytelse på den forhåndssorterte og mange duplikater array, imens en array med tilfeldige tall har mye bedre ytelse. Vi ser også at dual-pivot slår ut single-pivot variasjonen etter array størrelsen blir tilstrekkelig større."
   ]
  },
  {
   "cell_type": "markdown",
   "metadata": {},
   "source": [
    "-------------\n",
    "## Noen Tester"
   ]
  },
  {
   "cell_type": "code",
   "execution_count": 37,
   "metadata": {},
   "outputs": [],
   "source": [
    "def test_function(name,func,list_gen_args,tests):\n",
    "    n = 10**2\n",
    "    \n",
    "    results = []\n",
    "    for test in tests:\n",
    "        for gen_args in list_gen_args:\n",
    "            args = gen_args(n)\n",
    "            passed = test(func, *args)\n",
    "            if not passed:\n",
    "                print(f\"❌ {name} failed\")\n",
    "                return\n",
    "            \n",
    "    print(f\"✅ {name} passed\")"
   ]
  },
  {
   "cell_type": "code",
   "execution_count": 39,
   "metadata": {},
   "outputs": [
    {
     "name": "stdout",
     "output_type": "stream",
     "text": [
      "✅ Single pivot quicksort passed\n",
      "✅ Dual pivot quicksort passed\n"
     ]
    }
   ],
   "source": [
    "def checksum(func, arr):\n",
    "    return sum(arr) == sum(func(arr))\n",
    "\n",
    "def checkorder(func, arr):\n",
    "    sort = func(arr)\n",
    "    for i in range(len(arr) - 1): \n",
    "        if sort[i+1] < sort[i]: \n",
    "            return False\n",
    "    \n",
    "    return True\n",
    "\n",
    "tests = [checksum, checkorder]\n",
    "list_types = [random_list,duplicates_list,sorted_list]\n",
    "test_function(\"Single pivot quicksort\",quicksort, list_types, tests)\n",
    "test_function(\"Dual pivot quicksort\",dp_quicksort, list_types, tests)"
   ]
  }
 ],
 "metadata": {
  "kernelspec": {
   "display_name": "Python 3",
   "language": "python",
   "name": "python3"
  },
  "language_info": {
   "codemirror_mode": {
    "name": "ipython",
    "version": 3
   },
   "file_extension": ".py",
   "mimetype": "text/x-python",
   "name": "python",
   "nbconvert_exporter": "python",
   "pygments_lexer": "ipython3",
   "version": "3.8.5"
  }
 },
 "nbformat": 4,
 "nbformat_minor": 4
}
